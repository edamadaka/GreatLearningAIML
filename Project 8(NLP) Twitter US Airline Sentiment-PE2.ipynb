{
 "cells": [
  {
   "cell_type": "markdown",
   "metadata": {},
   "source": [
    "## Objective:\n",
    "To implement the techniques learnt as a part of the course.\n",
    "\n",
    "## Learning Outcomes:\n",
    "- Basic understanding of text pre-processing.\n",
    "- What to do after text pre-processing:\n",
    "    o Bag of words\n",
    "    o Tf-idf\n",
    "- Build the classification model.\n",
    "- Evaluate the Model.\n",
    "\n",
    "## Dataset columns\n",
    "- tweet_id\n",
    "- airline_sentiment\n",
    "- airline_sentiment_confidence\n",
    "- negativereason\n",
    "- negativereason_confidence\n",
    "- airline\n",
    "- airline_sentiment_gold\n",
    "- name\n",
    "- negativereason_gold\n",
    "- retweet_count\n",
    "- text\n",
    "- tweet_coord\n",
    "- tweet_created\n",
    "- tweet_location\n",
    "- user_timezone\n",
    "\n",
    "\n",
    "\n",
    "## Steps and tasks:\n",
    "1. Import the libraries, load dataset, print shape of data, data description. (5 Marks)\n",
    "2. Understand of data-columns: (5 Marks)\n",
    "    - a. Drop all other columns except “text” and “airline_sentiment”.\n",
    "    - b. Check the shape of data.\n",
    "    - c. Print first 5 rows of data.\n",
    "3. Text pre-processing: Data preparation. (20 Marks)\n",
    "    - a. Html tag removal.\n",
    "    - b. Tokenization.\n",
    "    - c. Remove the numbers.\n",
    "    - d. Removal of Special Characters and Punctuations.\n",
    "    - e. Conversion to lowercase.\n",
    "    - f. Lemmatize or stemming.\n",
    "    - g. Join the words in the list to convert back to text string in the dataframe. (So that each row contains the data in text format.)\n",
    "    - h. Print first 5 rows of data after pre-processing.\n",
    "4. Vectorization: (10 Marks)\n",
    "    - a. Use CountVectorizer.\n",
    "    - b. Use TfidfVectorizer.\n",
    "5. Fit and evaluate model using both type of vectorization. (6+6 Marks)\n",
    "6. Summarize your understanding of the application of Various Pre-processing and Vectorization and performance of your model on this dataset. (8 Marks)"
   ]
  },
  {
   "cell_type": "markdown",
   "metadata": {},
   "source": [
    "## 1. Import the libraries, load dataset, print shape of data, data description. (5 Marks)"
   ]
  },
  {
   "cell_type": "markdown",
   "metadata": {},
   "source": [
    "### Import the libraries"
   ]
  },
  {
   "cell_type": "code",
   "execution_count": 157,
   "metadata": {},
   "outputs": [],
   "source": [
    "#!pip install contractions"
   ]
  },
  {
   "cell_type": "code",
   "execution_count": 158,
   "metadata": {},
   "outputs": [],
   "source": [
    "import matplotlib.pyplot as plt #import plotting library\n",
    "import seaborn as sns #import seborn plotting library\n",
    "\n",
    "import re, string, unicodedata   # Import Regex, string and unicodedata.\n",
    "import contractions              # Import contractions library.\n",
    "from bs4 import BeautifulSoup    # Import BeautifulSoup.\n",
    "\n",
    "import numpy as np               # Import numpy.\n",
    "import pandas as pd              # Import pandas.\n",
    "import nltk                      # Import Natural Language Tool-Kit.\n",
    "\n",
    "\n",
    "from nltk.corpus import stopwords # Import stopwords.\n",
    "from nltk.tokenize import word_tokenize, sent_tokenize # Import Tokenizer.\n",
    "from nltk.stem.wordnet import WordNetLemmatizer # Import Lemmatizer.\n",
    "\n",
    "# nltk.download('stopwords')     # Download Stopwords.\n",
    "# nltk.download('punkt') #Punkt Sentence Tokenizer\n",
    "# nltk.download('wordnet') #English dictionary\n",
    "\n",
    "# Import metrics libraries\n",
    "from sklearn.metrics import accuracy_score, f1_score, recall_score, precision_score, confusion_matrix"
   ]
  },
  {
   "cell_type": "markdown",
   "metadata": {},
   "source": [
    "### Load dataset"
   ]
  },
  {
   "cell_type": "code",
   "execution_count": 159,
   "metadata": {},
   "outputs": [],
   "source": [
    "data_df = pd.read_csv(\"Tweets.csv\")"
   ]
  },
  {
   "cell_type": "markdown",
   "metadata": {},
   "source": [
    "### Print shape of data, data description"
   ]
  },
  {
   "cell_type": "code",
   "execution_count": 160,
   "metadata": {},
   "outputs": [
    {
     "data": {
      "text/plain": [
       "(14640, 15)"
      ]
     },
     "execution_count": 160,
     "metadata": {},
     "output_type": "execute_result"
    }
   ],
   "source": [
    "data_df.shape"
   ]
  },
  {
   "cell_type": "markdown",
   "metadata": {},
   "source": [
    "<b>Comment</b>: We can see there are 14640 tweets with 15 features in the data. "
   ]
  },
  {
   "cell_type": "code",
   "execution_count": 161,
   "metadata": {},
   "outputs": [
    {
     "data": {
      "text/plain": [
       "36"
      ]
     },
     "execution_count": 161,
     "metadata": {},
     "output_type": "execute_result"
    }
   ],
   "source": [
    "#we will check duplicate records\n",
    "data_df.duplicated().sum()"
   ]
  },
  {
   "cell_type": "markdown",
   "metadata": {},
   "source": [
    "<b>Comment</b>: Around 36 records are duplicates. We will drop those records. "
   ]
  },
  {
   "cell_type": "code",
   "execution_count": 162,
   "metadata": {},
   "outputs": [],
   "source": [
    "data_df.drop_duplicates(inplace=True)"
   ]
  },
  {
   "cell_type": "code",
   "execution_count": 163,
   "metadata": {},
   "outputs": [
    {
     "data": {
      "text/plain": [
       "0"
      ]
     },
     "execution_count": 163,
     "metadata": {},
     "output_type": "execute_result"
    }
   ],
   "source": [
    "data_df.duplicated().sum()"
   ]
  },
  {
   "cell_type": "markdown",
   "metadata": {},
   "source": [
    "<b>Comment</b>: Dropped the duplicate records."
   ]
  },
  {
   "cell_type": "code",
   "execution_count": 164,
   "metadata": {},
   "outputs": [
    {
     "data": {
      "text/plain": [
       "101"
      ]
     },
     "execution_count": 164,
     "metadata": {},
     "output_type": "execute_result"
    }
   ],
   "source": [
    "#we will check if there are any tweet\n",
    "data_df.duplicated(subset=[\"tweet_id\",\"airline_sentiment\",\"text\"]).sum()"
   ]
  },
  {
   "cell_type": "markdown",
   "metadata": {},
   "source": [
    "<b>Comment</b>: Around 101 tweets have same \"tweet_id\",\"airline_sentiment\",\"text\"\n",
    "But some of the other features are not duplicate. We will not drop them as the tweet_id may not be unique id. "
   ]
  },
  {
   "cell_type": "markdown",
   "metadata": {},
   "source": [
    "### Print data description"
   ]
  },
  {
   "cell_type": "code",
   "execution_count": 165,
   "metadata": {},
   "outputs": [
    {
     "data": {
      "text/html": [
       "<div>\n",
       "<style scoped>\n",
       "    .dataframe tbody tr th:only-of-type {\n",
       "        vertical-align: middle;\n",
       "    }\n",
       "\n",
       "    .dataframe tbody tr th {\n",
       "        vertical-align: top;\n",
       "    }\n",
       "\n",
       "    .dataframe thead th {\n",
       "        text-align: right;\n",
       "    }\n",
       "</style>\n",
       "<table border=\"1\" class=\"dataframe\">\n",
       "  <thead>\n",
       "    <tr style=\"text-align: right;\">\n",
       "      <th></th>\n",
       "      <th>count</th>\n",
       "      <th>mean</th>\n",
       "      <th>std</th>\n",
       "      <th>min</th>\n",
       "      <th>25%</th>\n",
       "      <th>50%</th>\n",
       "      <th>75%</th>\n",
       "      <th>max</th>\n",
       "    </tr>\n",
       "  </thead>\n",
       "  <tbody>\n",
       "    <tr>\n",
       "      <th>tweet_id</th>\n",
       "      <td>14604.0</td>\n",
       "      <td>5.692157e+17</td>\n",
       "      <td>7.782567e+14</td>\n",
       "      <td>5.675883e+17</td>\n",
       "      <td>5.685581e+17</td>\n",
       "      <td>5.694728e+17</td>\n",
       "      <td>5.698885e+17</td>\n",
       "      <td>5.703106e+17</td>\n",
       "    </tr>\n",
       "    <tr>\n",
       "      <th>airline_sentiment_confidence</th>\n",
       "      <td>14604.0</td>\n",
       "      <td>8.999228e-01</td>\n",
       "      <td>1.629550e-01</td>\n",
       "      <td>3.350000e-01</td>\n",
       "      <td>6.923000e-01</td>\n",
       "      <td>1.000000e+00</td>\n",
       "      <td>1.000000e+00</td>\n",
       "      <td>1.000000e+00</td>\n",
       "    </tr>\n",
       "    <tr>\n",
       "      <th>negativereason_confidence</th>\n",
       "      <td>10503.0</td>\n",
       "      <td>6.376440e-01</td>\n",
       "      <td>3.303799e-01</td>\n",
       "      <td>0.000000e+00</td>\n",
       "      <td>3.605000e-01</td>\n",
       "      <td>6.705000e-01</td>\n",
       "      <td>1.000000e+00</td>\n",
       "      <td>1.000000e+00</td>\n",
       "    </tr>\n",
       "    <tr>\n",
       "      <th>retweet_count</th>\n",
       "      <td>14604.0</td>\n",
       "      <td>8.278554e-02</td>\n",
       "      <td>7.466473e-01</td>\n",
       "      <td>0.000000e+00</td>\n",
       "      <td>0.000000e+00</td>\n",
       "      <td>0.000000e+00</td>\n",
       "      <td>0.000000e+00</td>\n",
       "      <td>4.400000e+01</td>\n",
       "    </tr>\n",
       "  </tbody>\n",
       "</table>\n",
       "</div>"
      ],
      "text/plain": [
       "                                count          mean           std  \\\n",
       "tweet_id                      14604.0  5.692157e+17  7.782567e+14   \n",
       "airline_sentiment_confidence  14604.0  8.999228e-01  1.629550e-01   \n",
       "negativereason_confidence     10503.0  6.376440e-01  3.303799e-01   \n",
       "retweet_count                 14604.0  8.278554e-02  7.466473e-01   \n",
       "\n",
       "                                       min           25%           50%  \\\n",
       "tweet_id                      5.675883e+17  5.685581e+17  5.694728e+17   \n",
       "airline_sentiment_confidence  3.350000e-01  6.923000e-01  1.000000e+00   \n",
       "negativereason_confidence     0.000000e+00  3.605000e-01  6.705000e-01   \n",
       "retweet_count                 0.000000e+00  0.000000e+00  0.000000e+00   \n",
       "\n",
       "                                       75%           max  \n",
       "tweet_id                      5.698885e+17  5.703106e+17  \n",
       "airline_sentiment_confidence  1.000000e+00  1.000000e+00  \n",
       "negativereason_confidence     1.000000e+00  1.000000e+00  \n",
       "retweet_count                 0.000000e+00  4.400000e+01  "
      ]
     },
     "metadata": {},
     "output_type": "display_data"
    }
   ],
   "source": [
    "display(data_df.describe().T)"
   ]
  },
  {
   "cell_type": "code",
   "execution_count": 166,
   "metadata": {},
   "outputs": [
    {
     "name": "stdout",
     "output_type": "stream",
     "text": [
      "<class 'pandas.core.frame.DataFrame'>\n",
      "Int64Index: 14604 entries, 0 to 14639\n",
      "Data columns (total 15 columns):\n",
      " #   Column                        Non-Null Count  Dtype  \n",
      "---  ------                        --------------  -----  \n",
      " 0   tweet_id                      14604 non-null  int64  \n",
      " 1   airline_sentiment             14604 non-null  object \n",
      " 2   airline_sentiment_confidence  14604 non-null  float64\n",
      " 3   negativereason                9159 non-null   object \n",
      " 4   negativereason_confidence     10503 non-null  float64\n",
      " 5   airline                       14604 non-null  object \n",
      " 6   airline_sentiment_gold        40 non-null     object \n",
      " 7   name                          14604 non-null  object \n",
      " 8   negativereason_gold           32 non-null     object \n",
      " 9   retweet_count                 14604 non-null  int64  \n",
      " 10  text                          14604 non-null  object \n",
      " 11  tweet_coord                   1015 non-null   object \n",
      " 12  tweet_created                 14604 non-null  object \n",
      " 13  tweet_location                9881 non-null   object \n",
      " 14  user_timezone                 9790 non-null   object \n",
      "dtypes: float64(2), int64(2), object(11)\n",
      "memory usage: 1.8+ MB\n"
     ]
    },
    {
     "data": {
      "text/plain": [
       "None"
      ]
     },
     "metadata": {},
     "output_type": "display_data"
    }
   ],
   "source": [
    "display(data_df.info())"
   ]
  },
  {
   "cell_type": "code",
   "execution_count": 167,
   "metadata": {},
   "outputs": [
    {
     "data": {
      "text/html": [
       "<div>\n",
       "<style scoped>\n",
       "    .dataframe tbody tr th:only-of-type {\n",
       "        vertical-align: middle;\n",
       "    }\n",
       "\n",
       "    .dataframe tbody tr th {\n",
       "        vertical-align: top;\n",
       "    }\n",
       "\n",
       "    .dataframe thead th {\n",
       "        text-align: right;\n",
       "    }\n",
       "</style>\n",
       "<table border=\"1\" class=\"dataframe\">\n",
       "  <thead>\n",
       "    <tr style=\"text-align: right;\">\n",
       "      <th></th>\n",
       "      <th>tweet_id</th>\n",
       "      <th>airline_sentiment</th>\n",
       "      <th>airline_sentiment_confidence</th>\n",
       "      <th>negativereason</th>\n",
       "      <th>negativereason_confidence</th>\n",
       "      <th>airline</th>\n",
       "      <th>airline_sentiment_gold</th>\n",
       "      <th>name</th>\n",
       "      <th>negativereason_gold</th>\n",
       "      <th>retweet_count</th>\n",
       "      <th>text</th>\n",
       "      <th>tweet_coord</th>\n",
       "      <th>tweet_created</th>\n",
       "      <th>tweet_location</th>\n",
       "      <th>user_timezone</th>\n",
       "    </tr>\n",
       "  </thead>\n",
       "  <tbody>\n",
       "    <tr>\n",
       "      <th>0</th>\n",
       "      <td>570306133677760513</td>\n",
       "      <td>neutral</td>\n",
       "      <td>1.0000</td>\n",
       "      <td>NaN</td>\n",
       "      <td>NaN</td>\n",
       "      <td>Virgin America</td>\n",
       "      <td>NaN</td>\n",
       "      <td>cairdin</td>\n",
       "      <td>NaN</td>\n",
       "      <td>0</td>\n",
       "      <td>@VirginAmerica What @dhepburn said.</td>\n",
       "      <td>NaN</td>\n",
       "      <td>2015-02-24 11:35:52 -0800</td>\n",
       "      <td>NaN</td>\n",
       "      <td>Eastern Time (US &amp; Canada)</td>\n",
       "    </tr>\n",
       "    <tr>\n",
       "      <th>1</th>\n",
       "      <td>570301130888122368</td>\n",
       "      <td>positive</td>\n",
       "      <td>0.3486</td>\n",
       "      <td>NaN</td>\n",
       "      <td>0.0000</td>\n",
       "      <td>Virgin America</td>\n",
       "      <td>NaN</td>\n",
       "      <td>jnardino</td>\n",
       "      <td>NaN</td>\n",
       "      <td>0</td>\n",
       "      <td>@VirginAmerica plus you've added commercials t...</td>\n",
       "      <td>NaN</td>\n",
       "      <td>2015-02-24 11:15:59 -0800</td>\n",
       "      <td>NaN</td>\n",
       "      <td>Pacific Time (US &amp; Canada)</td>\n",
       "    </tr>\n",
       "    <tr>\n",
       "      <th>2</th>\n",
       "      <td>570301083672813571</td>\n",
       "      <td>neutral</td>\n",
       "      <td>0.6837</td>\n",
       "      <td>NaN</td>\n",
       "      <td>NaN</td>\n",
       "      <td>Virgin America</td>\n",
       "      <td>NaN</td>\n",
       "      <td>yvonnalynn</td>\n",
       "      <td>NaN</td>\n",
       "      <td>0</td>\n",
       "      <td>@VirginAmerica I didn't today... Must mean I n...</td>\n",
       "      <td>NaN</td>\n",
       "      <td>2015-02-24 11:15:48 -0800</td>\n",
       "      <td>Lets Play</td>\n",
       "      <td>Central Time (US &amp; Canada)</td>\n",
       "    </tr>\n",
       "    <tr>\n",
       "      <th>3</th>\n",
       "      <td>570301031407624196</td>\n",
       "      <td>negative</td>\n",
       "      <td>1.0000</td>\n",
       "      <td>Bad Flight</td>\n",
       "      <td>0.7033</td>\n",
       "      <td>Virgin America</td>\n",
       "      <td>NaN</td>\n",
       "      <td>jnardino</td>\n",
       "      <td>NaN</td>\n",
       "      <td>0</td>\n",
       "      <td>@VirginAmerica it's really aggressive to blast...</td>\n",
       "      <td>NaN</td>\n",
       "      <td>2015-02-24 11:15:36 -0800</td>\n",
       "      <td>NaN</td>\n",
       "      <td>Pacific Time (US &amp; Canada)</td>\n",
       "    </tr>\n",
       "    <tr>\n",
       "      <th>4</th>\n",
       "      <td>570300817074462722</td>\n",
       "      <td>negative</td>\n",
       "      <td>1.0000</td>\n",
       "      <td>Can't Tell</td>\n",
       "      <td>1.0000</td>\n",
       "      <td>Virgin America</td>\n",
       "      <td>NaN</td>\n",
       "      <td>jnardino</td>\n",
       "      <td>NaN</td>\n",
       "      <td>0</td>\n",
       "      <td>@VirginAmerica and it's a really big bad thing...</td>\n",
       "      <td>NaN</td>\n",
       "      <td>2015-02-24 11:14:45 -0800</td>\n",
       "      <td>NaN</td>\n",
       "      <td>Pacific Time (US &amp; Canada)</td>\n",
       "    </tr>\n",
       "  </tbody>\n",
       "</table>\n",
       "</div>"
      ],
      "text/plain": [
       "             tweet_id airline_sentiment  airline_sentiment_confidence  \\\n",
       "0  570306133677760513           neutral                        1.0000   \n",
       "1  570301130888122368          positive                        0.3486   \n",
       "2  570301083672813571           neutral                        0.6837   \n",
       "3  570301031407624196          negative                        1.0000   \n",
       "4  570300817074462722          negative                        1.0000   \n",
       "\n",
       "  negativereason  negativereason_confidence         airline  \\\n",
       "0            NaN                        NaN  Virgin America   \n",
       "1            NaN                     0.0000  Virgin America   \n",
       "2            NaN                        NaN  Virgin America   \n",
       "3     Bad Flight                     0.7033  Virgin America   \n",
       "4     Can't Tell                     1.0000  Virgin America   \n",
       "\n",
       "  airline_sentiment_gold        name negativereason_gold  retweet_count  \\\n",
       "0                    NaN     cairdin                 NaN              0   \n",
       "1                    NaN    jnardino                 NaN              0   \n",
       "2                    NaN  yvonnalynn                 NaN              0   \n",
       "3                    NaN    jnardino                 NaN              0   \n",
       "4                    NaN    jnardino                 NaN              0   \n",
       "\n",
       "                                                text tweet_coord  \\\n",
       "0                @VirginAmerica What @dhepburn said.         NaN   \n",
       "1  @VirginAmerica plus you've added commercials t...         NaN   \n",
       "2  @VirginAmerica I didn't today... Must mean I n...         NaN   \n",
       "3  @VirginAmerica it's really aggressive to blast...         NaN   \n",
       "4  @VirginAmerica and it's a really big bad thing...         NaN   \n",
       "\n",
       "               tweet_created tweet_location               user_timezone  \n",
       "0  2015-02-24 11:35:52 -0800            NaN  Eastern Time (US & Canada)  \n",
       "1  2015-02-24 11:15:59 -0800            NaN  Pacific Time (US & Canada)  \n",
       "2  2015-02-24 11:15:48 -0800      Lets Play  Central Time (US & Canada)  \n",
       "3  2015-02-24 11:15:36 -0800            NaN  Pacific Time (US & Canada)  \n",
       "4  2015-02-24 11:14:45 -0800            NaN  Pacific Time (US & Canada)  "
      ]
     },
     "metadata": {},
     "output_type": "display_data"
    }
   ],
   "source": [
    "# we will see some of the records\n",
    "display(data_df.head())"
   ]
  },
  {
   "cell_type": "markdown",
   "metadata": {},
   "source": [
    "## 2. Understand of data-columns: (5 Marks)\n",
    "    - a. Drop all other columns except “text” and “airline_sentiment”.\n",
    "    - b. Check the shape of data.\n",
    "    - c. Print first 5 rows of data."
   ]
  },
  {
   "cell_type": "markdown",
   "metadata": {},
   "source": [
    "### a. Drop all other columns except “text” and “airline_sentiment”."
   ]
  },
  {
   "cell_type": "code",
   "execution_count": 168,
   "metadata": {},
   "outputs": [],
   "source": [
    "data_df1 = data_df[['text', 'airline_sentiment']].copy()"
   ]
  },
  {
   "cell_type": "markdown",
   "metadata": {},
   "source": [
    "### b. Check the shape of data."
   ]
  },
  {
   "cell_type": "code",
   "execution_count": 169,
   "metadata": {},
   "outputs": [
    {
     "data": {
      "text/plain": [
       "(14604, 2)"
      ]
     },
     "execution_count": 169,
     "metadata": {},
     "output_type": "execute_result"
    }
   ],
   "source": [
    "data_df1.shape"
   ]
  },
  {
   "cell_type": "code",
   "execution_count": 170,
   "metadata": {},
   "outputs": [
    {
     "data": {
      "image/png": "[encoded data removed]",
      "text/plain": [
       "<Figure size 216x360 with 1 Axes>"
      ]
     },
     "metadata": {
      "needs_background": "light"
     },
     "output_type": "display_data"
    }
   ],
   "source": [
    "#we will see number of tweets by sentiment\n",
    "plt.figure(figsize=(3,5))\n",
    "sns.countplot(data_df1['airline_sentiment'], order =data_df1.airline_sentiment.value_counts().index,palette= 'plasma')\n",
    "plt.show()"
   ]
  },
  {
   "cell_type": "markdown",
   "metadata": {},
   "source": [
    "<b>Comment</b>: We can see negative tweets are very high. But we will keep as it is. "
   ]
  },
  {
   "cell_type": "markdown",
   "metadata": {},
   "source": [
    "### c. Print first 5 rows of data."
   ]
  },
  {
   "cell_type": "code",
   "execution_count": 171,
   "metadata": {},
   "outputs": [
    {
     "data": {
      "text/html": [
       "<div>\n",
       "<style scoped>\n",
       "    .dataframe tbody tr th:only-of-type {\n",
       "        vertical-align: middle;\n",
       "    }\n",
       "\n",
       "    .dataframe tbody tr th {\n",
       "        vertical-align: top;\n",
       "    }\n",
       "\n",
       "    .dataframe thead th {\n",
       "        text-align: right;\n",
       "    }\n",
       "</style>\n",
       "<table border=\"1\" class=\"dataframe\">\n",
       "  <thead>\n",
       "    <tr style=\"text-align: right;\">\n",
       "      <th></th>\n",
       "      <th>text</th>\n",
       "      <th>airline_sentiment</th>\n",
       "    </tr>\n",
       "  </thead>\n",
       "  <tbody>\n",
       "    <tr>\n",
       "      <th>0</th>\n",
       "      <td>@VirginAmerica What @dhepburn said.</td>\n",
       "      <td>neutral</td>\n",
       "    </tr>\n",
       "    <tr>\n",
       "      <th>1</th>\n",
       "      <td>@VirginAmerica plus you've added commercials t...</td>\n",
       "      <td>positive</td>\n",
       "    </tr>\n",
       "    <tr>\n",
       "      <th>2</th>\n",
       "      <td>@VirginAmerica I didn't today... Must mean I n...</td>\n",
       "      <td>neutral</td>\n",
       "    </tr>\n",
       "    <tr>\n",
       "      <th>3</th>\n",
       "      <td>@VirginAmerica it's really aggressive to blast...</td>\n",
       "      <td>negative</td>\n",
       "    </tr>\n",
       "    <tr>\n",
       "      <th>4</th>\n",
       "      <td>@VirginAmerica and it's a really big bad thing...</td>\n",
       "      <td>negative</td>\n",
       "    </tr>\n",
       "  </tbody>\n",
       "</table>\n",
       "</div>"
      ],
      "text/plain": [
       "                                                text airline_sentiment\n",
       "0                @VirginAmerica What @dhepburn said.           neutral\n",
       "1  @VirginAmerica plus you've added commercials t...          positive\n",
       "2  @VirginAmerica I didn't today... Must mean I n...           neutral\n",
       "3  @VirginAmerica it's really aggressive to blast...          negative\n",
       "4  @VirginAmerica and it's a really big bad thing...          negative"
      ]
     },
     "execution_count": 171,
     "metadata": {},
     "output_type": "execute_result"
    }
   ],
   "source": [
    "data_df1.head(5)"
   ]
  },
  {
   "cell_type": "markdown",
   "metadata": {},
   "source": [
    "## 3. Text pre-processing: Data preparation. (20 Marks)\n",
    "    - a. Html tag removal.\n",
    "    - b. Tokenization.\n",
    "    - c. Remove the numbers.\n",
    "    - d. Removal of Special Characters and Punctuations.\n",
    "    - e. Conversion to lowercase.\n",
    "    - f. Lemmatize or stemming.\n",
    "    - g. Join the words in the list to convert back to text string in the dataframe. (So that each row contains the data in text format.)\n",
    "    - h. Print first 5 rows of data after pre-processing."
   ]
  },
  {
   "cell_type": "markdown",
   "metadata": {},
   "source": [
    "### a. Html tag removal."
   ]
  },
  {
   "cell_type": "code",
   "execution_count": 172,
   "metadata": {},
   "outputs": [
    {
     "data": {
      "text/html": [
       "<div>\n",
       "<style scoped>\n",
       "    .dataframe tbody tr th:only-of-type {\n",
       "        vertical-align: middle;\n",
       "    }\n",
       "\n",
       "    .dataframe tbody tr th {\n",
       "        vertical-align: top;\n",
       "    }\n",
       "\n",
       "    .dataframe thead th {\n",
       "        text-align: right;\n",
       "    }\n",
       "</style>\n",
       "<table border=\"1\" class=\"dataframe\">\n",
       "  <thead>\n",
       "    <tr style=\"text-align: right;\">\n",
       "      <th></th>\n",
       "      <th>text</th>\n",
       "      <th>airline_sentiment</th>\n",
       "    </tr>\n",
       "  </thead>\n",
       "  <tbody>\n",
       "    <tr>\n",
       "      <th>0</th>\n",
       "      <td>@VirginAmerica What @dhepburn said.</td>\n",
       "      <td>neutral</td>\n",
       "    </tr>\n",
       "    <tr>\n",
       "      <th>1</th>\n",
       "      <td>@VirginAmerica plus you've added commercials t...</td>\n",
       "      <td>positive</td>\n",
       "    </tr>\n",
       "    <tr>\n",
       "      <th>2</th>\n",
       "      <td>@VirginAmerica I didn't today... Must mean I n...</td>\n",
       "      <td>neutral</td>\n",
       "    </tr>\n",
       "    <tr>\n",
       "      <th>3</th>\n",
       "      <td>@VirginAmerica it's really aggressive to blast...</td>\n",
       "      <td>negative</td>\n",
       "    </tr>\n",
       "    <tr>\n",
       "      <th>4</th>\n",
       "      <td>@VirginAmerica and it's a really big bad thing...</td>\n",
       "      <td>negative</td>\n",
       "    </tr>\n",
       "  </tbody>\n",
       "</table>\n",
       "</div>"
      ],
      "text/plain": [
       "                                                text airline_sentiment\n",
       "0                @VirginAmerica What @dhepburn said.           neutral\n",
       "1  @VirginAmerica plus you've added commercials t...          positive\n",
       "2  @VirginAmerica I didn't today... Must mean I n...           neutral\n",
       "3  @VirginAmerica it's really aggressive to blast...          negative\n",
       "4  @VirginAmerica and it's a really big bad thing...          negative"
      ]
     },
     "execution_count": 172,
     "metadata": {},
     "output_type": "execute_result"
    }
   ],
   "source": [
    "def strip_html(text):\n",
    "    soup = BeautifulSoup(text, \"html.parser\")\n",
    "    return soup.get_text()\n",
    "\n",
    "data_df1['text'] = data_df1['text'].apply(lambda x: strip_html(x))\n",
    "data_df1.head()"
   ]
  },
  {
   "cell_type": "code",
   "execution_count": 173,
   "metadata": {},
   "outputs": [
    {
     "data": {
      "text/plain": [
       "\"@VirginAmerica plus you've added commercials to the experience... tacky.\""
      ]
     },
     "execution_count": 173,
     "metadata": {},
     "output_type": "execute_result"
    }
   ],
   "source": [
    "#We will perform contraction before tokenization so that we can avoid breaking of words \n",
    "#such as  \"you've\" to \"you\" and \"ve\"\n",
    "#before contraction\n",
    "data_df1.iloc[1].text"
   ]
  },
  {
   "cell_type": "code",
   "execution_count": 174,
   "metadata": {},
   "outputs": [
    {
     "data": {
      "text/plain": [
       "'@VirginAmerica plus you have added commercials to the experience... tacky.'"
      ]
     },
     "execution_count": 174,
     "metadata": {},
     "output_type": "execute_result"
    }
   ],
   "source": [
    "#perform contraction\n",
    "def replace_contractions(text):\n",
    "    \"\"\"Replace contractions in string of text\"\"\"\n",
    "    return contractions.fix(text)\n",
    "\n",
    "data_df1['text'] = data_df1['text'].apply(lambda x: replace_contractions(x))\n",
    "#After contraction\n",
    "data_df1.iloc[1].text"
   ]
  },
  {
   "cell_type": "markdown",
   "metadata": {},
   "source": [
    "<b>Comment<b/>: We can see \"you've\" is converted into \"you have\""
   ]
  },
  {
   "cell_type": "markdown",
   "metadata": {},
   "source": [
    "### b. Tokenization."
   ]
  },
  {
   "cell_type": "code",
   "execution_count": 175,
   "metadata": {},
   "outputs": [
    {
     "data": {
      "text/html": [
       "<div>\n",
       "<style scoped>\n",
       "    .dataframe tbody tr th:only-of-type {\n",
       "        vertical-align: middle;\n",
       "    }\n",
       "\n",
       "    .dataframe tbody tr th {\n",
       "        vertical-align: top;\n",
       "    }\n",
       "\n",
       "    .dataframe thead th {\n",
       "        text-align: right;\n",
       "    }\n",
       "</style>\n",
       "<table border=\"1\" class=\"dataframe\">\n",
       "  <thead>\n",
       "    <tr style=\"text-align: right;\">\n",
       "      <th></th>\n",
       "      <th>text</th>\n",
       "      <th>airline_sentiment</th>\n",
       "    </tr>\n",
       "  </thead>\n",
       "  <tbody>\n",
       "    <tr>\n",
       "      <th>0</th>\n",
       "      <td>[@, VirginAmerica, What, @, dhepburn, said, .]</td>\n",
       "      <td>neutral</td>\n",
       "    </tr>\n",
       "    <tr>\n",
       "      <th>1</th>\n",
       "      <td>[@, VirginAmerica, plus, you, have, added, com...</td>\n",
       "      <td>positive</td>\n",
       "    </tr>\n",
       "    <tr>\n",
       "      <th>2</th>\n",
       "      <td>[@, VirginAmerica, I, did, not, today, ..., Mu...</td>\n",
       "      <td>neutral</td>\n",
       "    </tr>\n",
       "    <tr>\n",
       "      <th>3</th>\n",
       "      <td>[@, VirginAmerica, it, is, really, aggressive,...</td>\n",
       "      <td>negative</td>\n",
       "    </tr>\n",
       "    <tr>\n",
       "      <th>4</th>\n",
       "      <td>[@, VirginAmerica, and, it, is, a, really, big...</td>\n",
       "      <td>negative</td>\n",
       "    </tr>\n",
       "  </tbody>\n",
       "</table>\n",
       "</div>"
      ],
      "text/plain": [
       "                                                text airline_sentiment\n",
       "0     [@, VirginAmerica, What, @, dhepburn, said, .]           neutral\n",
       "1  [@, VirginAmerica, plus, you, have, added, com...          positive\n",
       "2  [@, VirginAmerica, I, did, not, today, ..., Mu...           neutral\n",
       "3  [@, VirginAmerica, it, is, really, aggressive,...          negative\n",
       "4  [@, VirginAmerica, and, it, is, a, really, big...          negative"
      ]
     },
     "execution_count": 175,
     "metadata": {},
     "output_type": "execute_result"
    }
   ],
   "source": [
    "# Tokenization of data\n",
    "data_df1['text'] = data_df1.apply(lambda row: nltk.word_tokenize(row['text']), axis=1) \n",
    "data_df1.head()"
   ]
  },
  {
   "cell_type": "markdown",
   "metadata": {},
   "source": [
    "<b>Comment</b>: From the above output, we can see the tweets are broken into words."
   ]
  },
  {
   "cell_type": "markdown",
   "metadata": {},
   "source": [
    "### c. Remove the numbers."
   ]
  },
  {
   "cell_type": "code",
   "execution_count": 176,
   "metadata": {},
   "outputs": [
    {
     "data": {
      "text/plain": [
       "['@',\n",
       " 'VirginAmerica',\n",
       " 'did',\n",
       " 'you',\n",
       " 'know',\n",
       " 'that',\n",
       " 'suicide',\n",
       " 'is',\n",
       " 'the',\n",
       " 'second',\n",
       " 'leading',\n",
       " 'because',\n",
       " 'of',\n",
       " 'death',\n",
       " 'among',\n",
       " 'teens',\n",
       " '10-24']"
      ]
     },
     "execution_count": 176,
     "metadata": {},
     "output_type": "execute_result"
    }
   ],
   "source": [
    "#before number removal\n",
    "data_df1.iloc[10].text"
   ]
  },
  {
   "cell_type": "code",
   "execution_count": 177,
   "metadata": {},
   "outputs": [
    {
     "data": {
      "text/plain": [
       "['@',\n",
       " 'VirginAmerica',\n",
       " 'did',\n",
       " 'you',\n",
       " 'know',\n",
       " 'that',\n",
       " 'suicide',\n",
       " 'is',\n",
       " 'the',\n",
       " 'second',\n",
       " 'leading',\n",
       " 'because',\n",
       " 'of',\n",
       " 'death',\n",
       " 'among',\n",
       " 'teens',\n",
       " '-']"
      ]
     },
     "execution_count": 177,
     "metadata": {},
     "output_type": "execute_result"
    }
   ],
   "source": [
    "#removing numbers\n",
    "def remove_numbers(text):\n",
    "    for count, value in enumerate(text):\n",
    "        text[count] = re.sub(r'\\d+', '', value)\n",
    "    return text\n",
    "data_df1['text'] = data_df1['text'].apply(lambda x: remove_numbers(x))\n",
    "#after number removal\n",
    "data_df1.iloc[10].text"
   ]
  },
  {
   "cell_type": "markdown",
   "metadata": {},
   "source": [
    "<b>Comment</b>: We can see the digits are removed. "
   ]
  },
  {
   "cell_type": "markdown",
   "metadata": {},
   "source": [
    "### d. Removal of Special Characters and Punctuations."
   ]
  },
  {
   "cell_type": "code",
   "execution_count": 178,
   "metadata": {},
   "outputs": [
    {
     "data": {
      "text/plain": [
       "['@',\n",
       " 'VirginAmerica',\n",
       " 'yes',\n",
       " ',',\n",
       " 'nearly',\n",
       " 'every',\n",
       " 'time',\n",
       " 'I',\n",
       " 'fly',\n",
       " 'VX',\n",
       " 'this',\n",
       " '“',\n",
       " 'ear',\n",
       " 'worm',\n",
       " '”',\n",
       " 'will',\n",
       " 'not',\n",
       " 'go',\n",
       " 'away',\n",
       " ':',\n",
       " ')']"
      ]
     },
     "execution_count": 178,
     "metadata": {},
     "output_type": "execute_result"
    }
   ],
   "source": [
    "#before removal of special characters\n",
    "data_df1.iloc[6].text"
   ]
  },
  {
   "cell_type": "code",
   "execution_count": 179,
   "metadata": {},
   "outputs": [
    {
     "data": {
      "text/plain": [
       "['@',\n",
       " 'VirginAmerica',\n",
       " 'yes',\n",
       " ',',\n",
       " 'nearly',\n",
       " 'every',\n",
       " 'time',\n",
       " 'I',\n",
       " 'fly',\n",
       " 'VX',\n",
       " 'this',\n",
       " '',\n",
       " 'ear',\n",
       " 'worm',\n",
       " '',\n",
       " 'will',\n",
       " 'not',\n",
       " 'go',\n",
       " 'away',\n",
       " ':',\n",
       " ')']"
      ]
     },
     "execution_count": 179,
     "metadata": {},
     "output_type": "execute_result"
    }
   ],
   "source": [
    "#removing special characters\n",
    "def remove_non_ascii(words):\n",
    "    \"\"\"Remove non-ASCII characters from list of tokenized words\"\"\"\n",
    "    new_words = []\n",
    "    for word in words:\n",
    "        new_word = unicodedata.normalize('NFKD', word).encode('ascii', 'ignore').decode('utf-8', 'ignore')\n",
    "        new_words.append(new_word)\n",
    "    return new_words\n",
    "data_df1['text'] = data_df1['text'].apply(lambda x: remove_non_ascii(x))\n",
    "#after removal of special characters\n",
    "data_df1.iloc[6].text"
   ]
  },
  {
   "cell_type": "markdown",
   "metadata": {},
   "source": [
    "<b>Comment</b>: We can see special characters(like double quotes) are removed. "
   ]
  },
  {
   "cell_type": "code",
   "execution_count": 180,
   "metadata": {},
   "outputs": [],
   "source": [
    "### d. Removal of Punctuations."
   ]
  },
  {
   "cell_type": "code",
   "execution_count": 181,
   "metadata": {},
   "outputs": [
    {
     "data": {
      "text/plain": [
       "['@',\n",
       " 'VirginAmerica',\n",
       " 'I',\n",
       " 'did',\n",
       " 'not',\n",
       " 'today',\n",
       " '...',\n",
       " 'Must',\n",
       " 'mean',\n",
       " 'I',\n",
       " 'need',\n",
       " 'to',\n",
       " 'take',\n",
       " 'another',\n",
       " 'trip',\n",
       " '!']"
      ]
     },
     "execution_count": 181,
     "metadata": {},
     "output_type": "execute_result"
    }
   ],
   "source": [
    "#before removal of punctuations\n",
    "data_df1.iloc[2].text"
   ]
  },
  {
   "cell_type": "code",
   "execution_count": 182,
   "metadata": {},
   "outputs": [
    {
     "data": {
      "text/plain": [
       "['VirginAmerica',\n",
       " 'I',\n",
       " 'did',\n",
       " 'not',\n",
       " 'today',\n",
       " 'Must',\n",
       " 'mean',\n",
       " 'I',\n",
       " 'need',\n",
       " 'to',\n",
       " 'take',\n",
       " 'another',\n",
       " 'trip']"
      ]
     },
     "execution_count": 182,
     "metadata": {},
     "output_type": "execute_result"
    }
   ],
   "source": [
    "##Removing punctuations\n",
    "def remove_punctuation(words):\n",
    "    \"\"\"Remove punctuation from list of tokenized words\"\"\"\n",
    "    new_words = []\n",
    "    for word in words:\n",
    "        new_word = re.sub(r'[^\\w\\s]', '', word)\n",
    "        if new_word != '':\n",
    "            new_words.append(new_word)\n",
    "    return new_words\n",
    "\n",
    "data_df1['text'] = data_df1['text'].apply(lambda x: remove_punctuation(x))\n",
    "#after removal of punctuations\n",
    "data_df1.iloc[2].text"
   ]
  },
  {
   "cell_type": "markdown",
   "metadata": {},
   "source": [
    "<b>Comment</b>: We can see Punctuations characters(like !) are removed."
   ]
  },
  {
   "cell_type": "markdown",
   "metadata": {},
   "source": [
    "### e. Conversion to lowercase."
   ]
  },
  {
   "cell_type": "code",
   "execution_count": 183,
   "metadata": {},
   "outputs": [
    {
     "data": {
      "text/plain": [
       "['VirginAmerica',\n",
       " 'I',\n",
       " 'did',\n",
       " 'not',\n",
       " 'today',\n",
       " 'Must',\n",
       " 'mean',\n",
       " 'I',\n",
       " 'need',\n",
       " 'to',\n",
       " 'take',\n",
       " 'another',\n",
       " 'trip']"
      ]
     },
     "execution_count": 183,
     "metadata": {},
     "output_type": "execute_result"
    }
   ],
   "source": [
    "#before conversion to lowercase\n",
    "data_df1.iloc[2].text"
   ]
  },
  {
   "cell_type": "code",
   "execution_count": 184,
   "metadata": {},
   "outputs": [
    {
     "data": {
      "text/plain": [
       "['virginamerica',\n",
       " 'i',\n",
       " 'did',\n",
       " 'not',\n",
       " 'today',\n",
       " 'must',\n",
       " 'mean',\n",
       " 'i',\n",
       " 'need',\n",
       " 'to',\n",
       " 'take',\n",
       " 'another',\n",
       " 'trip']"
      ]
     },
     "execution_count": 184,
     "metadata": {},
     "output_type": "execute_result"
    }
   ],
   "source": [
    "#converting to lowercase\n",
    "def to_lowercase(words):\n",
    "    \"\"\"Convert all characters to lowercase from list of tokenized words\"\"\"\n",
    "    new_words = []\n",
    "    for word in words:\n",
    "        new_word = word.lower()\n",
    "        new_words.append(new_word)\n",
    "    return new_words\n",
    "data_df1['text'] = data_df1['text'].apply(lambda x: to_lowercase(x))\n",
    "#After conversion to lowercase\n",
    "data_df1.iloc[2].text"
   ]
  },
  {
   "cell_type": "markdown",
   "metadata": {},
   "source": [
    "<b>Comment</b>: We can see all characters are converted to lower case."
   ]
  },
  {
   "cell_type": "markdown",
   "metadata": {},
   "source": [
    "### f. Lemmatize or stemming."
   ]
  },
  {
   "cell_type": "code",
   "execution_count": 185,
   "metadata": {},
   "outputs": [
    {
     "data": {
      "text/plain": [
       "['virginamerica',\n",
       " 'plus',\n",
       " 'you',\n",
       " 'have',\n",
       " 'added',\n",
       " 'commercials',\n",
       " 'to',\n",
       " 'the',\n",
       " 'experience',\n",
       " 'tacky']"
      ]
     },
     "execution_count": 185,
     "metadata": {},
     "output_type": "execute_result"
    }
   ],
   "source": [
    "#before lemmatize\n",
    "data_df1.iloc[1].text"
   ]
  },
  {
   "cell_type": "code",
   "execution_count": 186,
   "metadata": {},
   "outputs": [
    {
     "data": {
      "text/plain": [
       "['virginamerica',\n",
       " 'plus',\n",
       " 'you',\n",
       " 'have',\n",
       " 'add',\n",
       " 'commercials',\n",
       " 'to',\n",
       " 'the',\n",
       " 'experience',\n",
       " 'tacky']"
      ]
     },
     "execution_count": 186,
     "metadata": {},
     "output_type": "execute_result"
    }
   ],
   "source": [
    "#we will lemmatize using WordNet\n",
    "lemmatizer = WordNetLemmatizer()\n",
    "def lemmatize_list(words):\n",
    "    new_words = []\n",
    "    for word in words:\n",
    "      new_words.append(lemmatizer.lemmatize(word, pos='v'))\n",
    "    return new_words\n",
    "data_df1['text'] = data_df1['text'].apply(lambda x: lemmatize_list(x))\n",
    "#After lemmatize\n",
    "data_df1.iloc[1].text"
   ]
  },
  {
   "cell_type": "markdown",
   "metadata": {},
   "source": [
    "<b>Comment</b>: We can see \"added\" is converted to \"add\""
   ]
  },
  {
   "cell_type": "markdown",
   "metadata": {},
   "source": [
    "### g. Join the words in the list to convert back to text string in the dataframe. (So that each row contains the data in text format.)"
   ]
  },
  {
   "cell_type": "code",
   "execution_count": 187,
   "metadata": {},
   "outputs": [],
   "source": [
    "data_df2 = data_df1.copy()\n",
    "def append_words(words):\n",
    "    text_str = \"\"\n",
    "    for word in words:\n",
    "        text_str+= word + \" \"\n",
    "    return text_str\n",
    "data_df2['text'] = data_df1['text'].apply(lambda x: append_words(x))"
   ]
  },
  {
   "cell_type": "markdown",
   "metadata": {},
   "source": [
    "### h. Print first 5 rows of data after pre-processing."
   ]
  },
  {
   "cell_type": "code",
   "execution_count": 188,
   "metadata": {},
   "outputs": [
    {
     "data": {
      "text/html": [
       "<div>\n",
       "<style scoped>\n",
       "    .dataframe tbody tr th:only-of-type {\n",
       "        vertical-align: middle;\n",
       "    }\n",
       "\n",
       "    .dataframe tbody tr th {\n",
       "        vertical-align: top;\n",
       "    }\n",
       "\n",
       "    .dataframe thead th {\n",
       "        text-align: right;\n",
       "    }\n",
       "</style>\n",
       "<table border=\"1\" class=\"dataframe\">\n",
       "  <thead>\n",
       "    <tr style=\"text-align: right;\">\n",
       "      <th></th>\n",
       "      <th>text</th>\n",
       "      <th>airline_sentiment</th>\n",
       "    </tr>\n",
       "  </thead>\n",
       "  <tbody>\n",
       "    <tr>\n",
       "      <th>0</th>\n",
       "      <td>virginamerica what dhepburn say</td>\n",
       "      <td>neutral</td>\n",
       "    </tr>\n",
       "    <tr>\n",
       "      <th>1</th>\n",
       "      <td>virginamerica plus you have add commercials to...</td>\n",
       "      <td>positive</td>\n",
       "    </tr>\n",
       "    <tr>\n",
       "      <th>2</th>\n",
       "      <td>virginamerica i do not today must mean i need ...</td>\n",
       "      <td>neutral</td>\n",
       "    </tr>\n",
       "    <tr>\n",
       "      <th>3</th>\n",
       "      <td>virginamerica it be really aggressive to blast...</td>\n",
       "      <td>negative</td>\n",
       "    </tr>\n",
       "    <tr>\n",
       "      <th>4</th>\n",
       "      <td>virginamerica and it be a really big bad thing...</td>\n",
       "      <td>negative</td>\n",
       "    </tr>\n",
       "  </tbody>\n",
       "</table>\n",
       "</div>"
      ],
      "text/plain": [
       "                                                text airline_sentiment\n",
       "0                   virginamerica what dhepburn say            neutral\n",
       "1  virginamerica plus you have add commercials to...          positive\n",
       "2  virginamerica i do not today must mean i need ...           neutral\n",
       "3  virginamerica it be really aggressive to blast...          negative\n",
       "4  virginamerica and it be a really big bad thing...          negative"
      ]
     },
     "execution_count": 188,
     "metadata": {},
     "output_type": "execute_result"
    }
   ],
   "source": [
    "data_df2.head(5)"
   ]
  },
  {
   "cell_type": "markdown",
   "metadata": {},
   "source": [
    "<b>Comment</b>: We can see the words are concatenated"
   ]
  },
  {
   "cell_type": "markdown",
   "metadata": {},
   "source": [
    "## 4. Vectorization: (10 Marks)\n",
    "- a. Use CountVectorizer.\n",
    "- b. Use TfidfVectorizer."
   ]
  },
  {
   "cell_type": "markdown",
   "metadata": {},
   "source": [
    "### 4a. Use CountVectorizer."
   ]
  },
  {
   "cell_type": "code",
   "execution_count": 189,
   "metadata": {},
   "outputs": [],
   "source": [
    "# Import the Count Vectorization library to Convert text data to numbers.\n",
    "from sklearn.feature_extraction.text import CountVectorizer\n",
    "\n",
    "# Keep only 3000 features as number of features will increase the processing time.\n",
    "# we will build the vector using uni,bi and trigrams\n",
    "vectorizer_count = CountVectorizer(max_features=3000,ngram_range=(1,3))   \n",
    "data_features_count = vectorizer_count.fit_transform(data_df2['text'])\n",
    "\n",
    "# Convert the data features to array.\n",
    "data_feature_count = data_features_count.toarray()  "
   ]
  },
  {
   "cell_type": "code",
   "execution_count": 190,
   "metadata": {},
   "outputs": [
    {
     "name": "stdout",
     "output_type": "stream",
     "text": [
      "{'virginamerica': 2728, 'what': 2789, 'say': 2000, 'plus': 1885, 'you': 2915, 'have': 1091, 'add': 22, 'to': 2414, 'the': 2271, 'experience': 791, 'you have': 2945, 'to the': 2512, 'do': 700, 'not': 1647, 'today': 2525, 'must': 1559, 'mean': 1503, 'need': 1604, 'take': 2209, 'another': 169, 'trip': 2548, 'do not': 710, 'need to': 1606, 'to take': 2507, 'it': 1282, 'be': 271, 'really': 1933, 'entertainment': 768, 'in': 1241, 'your': 2977, 'face': 799, 'they': 2353, 'little': 1427, 'it be': 1285, 'be really': 357, 'in your': 1262, 'they have': 2361, 'and': 125, 'big': 423, 'bad': 253, 'thing': 2365, 'about': 4, 'and it': 138, 'about it': 5, 'and it be': 139, 'seriously': 2039, 'would': 2891, 'pay': 1845, 'flight': 847, 'for': 935, 'seat': 2014, 'that': 2250, 'this': 2372, 'play': 1879, 'only': 1792, 'fly': 915, 'flight for': 872, 'that do': 2256, 'not have': 1671, 'the only': 2311, 'that do not': 2257, 'do not have': 714, 'yes': 2911, 'every': 778, 'time': 2401, 'will': 2838, 'go': 1046, 'away': 243, 'every time': 779, 'time fly': 2405, 'will not': 2847, 'not go': 1667, 'miss': 1534, 'without': 2872, 'there': 2348, 'https': 1211, 'well': 2788, 'now': 1704, 'amaze': 64, 'arrive': 200, 'an': 115, 'hour': 1170, 'early': 749, 'too': 2533, 'good': 1059, 'me': 1480, 'be amaze': 278, 'an hour': 121, 'you be': 2919, 'be too': 389, 'good to': 1061, 'to me': 2479, 'know': 1361, 'second': 2021, 'because': 407, 'of': 1719, 'do you': 731, 'you know': 2951, 'know that': 1366, 'be the': 380, 'because of': 410, 'do you know': 733, 'pretty': 1900, 'so': 2086, 'much': 1556, 'better': 419, 'than': 2235, 'so much': 2090, 'better than': 420, 'such': 2187, 'great': 1062, 'deal': 648, 'already': 61, 'think': 2367, 'my': 1560, 'nd': 1603, 'even': 774, 'on': 1743, 'st': 2151, 'yet': 2914, 'this be': 2374, 'think about': 2368, 'about my': 6, 'trip to': 2549, 'have not': 1116, 'not even': 1661, 'go on': 1050, 'on my': 1759, 'sky': 2078, 'again': 31, 'all': 50, 'from': 988, 'travel': 2543, 'http': 1210, 'be fly': 307, 'you take': 2965, 'all the': 56, 'thank': 2237, 'virginamerica thank': 2730, 'schedule': 2010, 'still': 2168, 'mia': 1517, 'be still': 371, 'excite': 786, 'first': 833, 'cross': 620, 'country': 611, 'lax': 1390, 'mco': 1479, 'hear': 1132, 'nothing': 1700, 'but': 450, 'things': 2366, 'virgin': 2727, 'america': 65, 'for my': 957, 'my first': 1575, 'lax to': 1391, 'nyc': 1718, 'sfo': 2052, 'last': 1381, 'week': 2783, 'could': 603, 'sit': 2070, 'due': 742, 'two': 2568, 'either': 753, 'help': 1135, 'fly from': 916, 'to sfo': 2498, 'last week': 1385, 'could not': 606, 'sit in': 2073, 'in my': 1254, 'my seat': 1593, 'due to': 743, 'awesome': 244, 'please': 1880, 'want': 2747, 'with': 2856, 'virginamerica you': 2731, 'know what': 1368, 'would be': 2892, 'want to': 2749, 'to fly': 2453, 'fly with': 924, 'to fly with': 2454, 'why': 2823, 'fare': 810, 'may': 1477, 'over': 1822, 'three': 2388, 'more': 1550, 'other': 1807, 'when': 2801, 'available': 239, 'select': 2030, 'why be': 2824, 'be your': 406, 'more than': 1551, 'seat be': 2016, 'be available': 284, 'love': 1450, 'feel': 816, 'love the': 1451, 'make': 1462, 'bos': 437, 'las': 1380, 'non': 1643, 'stop': 2179, 'soon': 2101, 'will you': 2851, 'be make': 335, 'guy': 1073, 'mess': 1513, 'up': 2638, 'friends': 987, 'give': 1039, 'free': 981, 'internet': 1276, 'you guy': 2942, 'mess up': 1514, 'up my': 2642, 'with my': 2862, 'and you': 164, 'status': 2160, 'match': 1475, 'program': 1908, 'apply': 193, 'weeks': 2785, 'call': 475, 'email': 755, 'no': 1629, 'response': 1965, 'be be': 288, 'call and': 476, 'with no': 2863, 'no response': 1640, 'it be be': 1286, 'happen': 1084, 'ur': 2652, 'food': 934, 'options': 1799, 'at': 214, 'least': 1394, 'site': 2076, 'able': 1, 'eat': 752, 'anything': 183, 'next': 1621, 'hrs': 1205, 'fail': 802, 'what happen': 2798, 'at least': 222, 'not be': 1652, 'be able': 272, 'will not be': 2848, 'not be able': 1653, 'worry': 2883, 'we': 2758, 'together': 2528, 'very': 2719, 'we will': 2772, 'will be': 2839, 'we will be': 2773, 'can': 484, 'get': 1009, 'any': 175, 'cold': 569, 'air': 35, 'me that': 1496, 'that we': 2265, 'we can': 2761, 'can not': 491, 'not get': 1664, 'get any': 1011, 'from the': 990, 'we can not': 2762, 'can not get': 496, 'ewr': 783, 'middle': 1519, 'to ewr': 2448, 'seat on': 2019, 'hi': 1145, 'just': 1344, 'cool': 600, 'birthday': 426, 'enter': 767, 'name': 1601, 'during': 745, 'book': 433, 'problems': 1906, 'with you': 2868, 'you but': 2922, 'but can': 452, 'flight book': 857, 'book problems': 436, 'but can not': 453, 'flight book problems': 858, 'hours': 1177, 'club': 565, 'post': 1895, 'online': 1791, 'current': 622, 'virginamerica be': 2729, 'hours of': 1185, 'for the': 965, 'that be': 2251, 'leave': 1395, 'expensive': 790, 'iad': 1215, 'one': 1785, 'answer': 172, 'number': 1714, 'on flight': 1749, 'to lax': 2474, 'no one': 1637, 'at lax': 221, 'return': 1967, 'phone': 1859, 'prefer': 1898, 'use': 2711, 'option': 1798, 'my return': 1592, 'to use': 2518, 'news': 1620, 'start': 2158, 'by': 471, 'end': 761, 'year': 2908, 'via': 2724, 'be great': 315, 'flight to': 895, 'end of': 762, 'nice': 1625, 'rt': 1981, 'takeoff': 2216, 'with the': 2864, 'way': 2755, 'best': 418, 'ever': 776, 'way to': 2756, 'experience ever': 793, 'be the only': 383, 'airline': 37, 'around': 198, 'hand': 1079, 'down': 737, 'and do': 131, 'my flight': 1576, 'my flight to': 1581, 'support': 2194, 'work': 2877, 'be not': 341, 'not work': 1696, 'work on': 2880, 'on your': 1781, 'your site': 2993, 'be not work': 343, 'view': 2726, 'sign': 2065, 'beyond': 422, 'in the': 1259, 'hey': 1144, 'flyer': 927, 'hard': 1088, 'account': 18, 'first time': 836, 'but be': 451, 'be have': 318, 'get my': 1026, 'to my': 2482, 'plz': 1886, 'win': 2852, 'upgrade': 2650, 'help me': 1136, 'ticket': 2395, 'move': 1554, 'new': 1617, 'city': 556, 'where': 2811, 'how': 1190, 'before': 414, 'expire': 794, 'have an': 1093, 'move to': 1555, 'you do': 2932, 'not fly': 1663, 'how can': 1193, 'you do not': 2933, 'fly with you': 925, 'dallas': 636, 'seattle': 2020, 'feb': 813, 'be flight': 306, 'flight leave': 881, 'on time': 1774, 'reason': 1934, 'rock': 1974, 'wow': 2903, 'mind': 1526, 'after': 26, 'night': 1627, 'oscars': 1806, 'last night': 1383, 'all be': 51, 'suppose': 2195, 'off': 1733, 'minutes': 1530, 'ago': 34, 'website': 2779, 'show': 2062, 'flight on': 886, 'on it': 1757, 'be suppose': 373, 'suppose to': 2196, 'take off': 2214, 'in flight': 1250, 'be suppose to': 374, 'to take off': 2508, 'though': 2387, 'the way': 2336, 'be very': 397, 'wish': 2855, 'out': 1818, 'atlanta': 231, 'fly out': 919, 'out of': 1819, 'fly out of': 920, 'la': 1373, 'th': 2234, 'flight be': 852, 'be leave': 331, 'lga': 1408, 'try': 2554, 'since': 2066, 'page': 1832, 'never': 1610, 'load': 1429, 'thx': 2393, 'be so': 367, 'about your': 9, 'but have': 456, 'have be': 1095, 'be try': 392, 'have be try': 1100, 'know it': 1365, 'it on': 1294, 'lady': 1376, 'she': 2054, 'she be': 2055, 'let': 1402, 'us': 2653, 'let us': 1405, 'what you': 2800, 'you think': 2969, 'weeks ago': 2786, 'flight from': 873, 'still have': 2171, 'not show': 1686, 'show up': 2063, 'still have not': 2172, 'have to': 1121, 'to go': 2464, 'have to go': 1123, 'sorry': 2104, 'have it': 1108, 'but you': 467, 'you really': 2959, 'dca': 647, 'pm': 1887, 'check': 546, 'to dca': 2443, 'try to': 2555, 'to check': 2434, 'check in': 548, 'try to check': 2559, 'to check in': 2435, 'through': 2389, 'someone': 2098, 'to get': 2457, 'get through': 1032, 'for an': 938, 'can someone': 498, 'call me': 480, 'me please': 1494, 'be try to': 393, 'try to get': 2560, 'to get through': 2461, 'for an hour': 939, 'hold': 1151, 'earlier': 747, 'tonight': 2532, 'be on': 346, 'on hold': 1753, 'hold for': 1152, 'for minutes': 955, 'be there': 385, 'there any': 2349, 'earlier flight': 748, 'to nyc': 2484, 'be on hold': 348, 'on hold for': 1754, 'hold for minutes': 1156, 'be there any': 386, 'award': 242, 'an airline': 117, 'everything': 782, 'fine': 831, 'until': 2637, 'lose': 1442, 'bag': 257, 'be fine': 305, 'you lose': 2952, 'lose my': 1444, 'my bag': 1562, 'lose my bag': 1445, 'change': 533, 'reservation': 1960, 'credit': 616, 'card': 517, 'fee': 814, 'or': 1800, 'to change': 2431, 'credit card': 617, 'do need': 708, 'on phone': 1762, 'phone to': 1863, 'change fee': 534, 'can do': 487, 'need to change': 1608, 'do need to': 709, 'customer': 626, 'service': 2041, 'team': 2222, 'if': 1220, 'track': 2540, 'your customer': 2982, 'customer service': 629, 'let me': 1403, 'me know': 1489, 'know if': 1364, 'if you': 1229, 'you need': 2955, 'your customer service': 2983, 'let me know': 1404, 'baggage': 263, 'book flight': 434, 'flight but': 859, 'to add': 2415, 'do this': 728, 'step': 2164, 'its': 1304, 'game': 1002, 'your airline': 2979, 'airline be': 38, 'be awesome': 285, 'but your': 468, 'ride': 1970, 'plane': 1872, 'crew': 618, 'airlines': 41, 'should': 2058, 'like': 1412, 'should be': 2059, 'be like': 332, 'like this': 1414, 'morning': 1552, 'correct': 601, 'fly you': 926, 'you all': 2917, 'any way': 180, 'watch': 2753, 'some': 2097, 'of the': 1727, 'the best': 2278, 'different': 686, 'media': 1506, 'do you have': 732, 'anyway': 184, 'speak': 2145, 'human': 1213, 'as': 202, 'possible': 1893, 'what be': 2790, 'be go': 311, 'on with': 1779, 'with customer': 2858, 'service be': 2044, 'to speak': 2501, 'speak to': 2146, 'to human': 2469, 'as soon': 205, 'soon as': 2102, 'as possible': 204, 'thank you': 2247, 'what be go': 2791, 'be go on': 312, 'go on with': 1051, 'with customer service': 2859, 'customer service be': 631, 'to speak to': 2502, 'as soon as': 206, 'soon as possible': 2103, 'happen to': 1085, 'traveler': 2545, 'southwestair': 2109, 'jetblue': 1307, 'why can': 2825, 'not you': 1697, 'and have': 135, 'why can not': 2826, 'then': 2346, 'once': 1783, 'member': 1508, 'inflight': 1265, 'interest': 1273, 'to be': 2420, 'delay': 653, 'late': 1386, 'be delay': 300, 'delay and': 654, 'late flight': 1387, 'you be the': 2921, 'be the best': 381, 'cancel': 503, 'four': 980, 'plan': 1869, 'have no': 1115, 'cancel flight': 504, 'flight my': 882, 'my next': 1588, 'cancel flight my': 507, 'disappoint': 689, 'which': 2815, 'share': 2053, 'business': 448, 'meet': 1507, 'trouble': 2550, 'wife': 2834, 'this flight': 2378, 'my wife': 1599, 'bring': 443, 'code': 567, 'my reservation': 1591, 'what be the': 2792, 'life': 1410, 'home': 1161, 'and be': 126, 'change my': 537, 'my trip': 1597, 'can you': 500, 'not let': 1677, 'try to change': 2558, 'to change my': 2433, 'will not let': 2849, 'not let me': 1678, 'back': 247, 'when will': 2809, 'be back': 287, 'yeah': 2907, 'point': 1888, 'most': 1553, 'how do': 1194, 'the flight': 2291, 'flight and': 848, 'my account': 1561, 'do not get': 713, 'tv': 2564, 'video': 2725, 'flightled': 906, 'jfk': 1340, 'saturday': 1997, 'like the': 1413, 'disappoint in': 690, 'cancel flightled': 510, 'flightled flight': 908, 'flight when': 899, 'other flight': 1809, 'out to': 1821, 'to jfk': 2470, 'cancel flightled flight': 512, 'land': 1377, 'here': 1141, 'friendly': 986, 'just land': 1348, 'land in': 1379, 'be here': 319, 'btw': 445, 'be it': 325, 'or be': 1801, 'your website': 2997, 'website be': 2780, 'time for': 2406, 'for another': 940, 'both': 440, 'mobile': 1544, 'have try': 1126, 'passengers': 1840, 'tell': 2223, 'their': 2344, 'class': 558, 'bin': 424, 'leave the': 1398, 'the plane': 2317, 'st class': 2152, 'find': 827, 'who': 2818, 'your phone': 2990, 'phone number': 1862, 'not find': 1662, 'to call': 2427, 'what be your': 2794, 'can not find': 495, 'anyone': 182, 'useless': 2715, 'do anything': 701, 'and no': 144, 'one be': 1786, 'answer the': 173, 'the phone': 2314, 'and no one': 145, 'no one be': 1638, 'answer the phone': 174, 'miss flight': 1537, 'check bag': 547, 'miss my': 1538, 'my business': 1566, 'direct': 687, 'fll': 913, 'layover': 1392, 'vegas': 2718, 'buy': 469, 'how be': 1192, 'direct flight': 688, 'next to': 1624, 'people': 1849, 'same': 1993, 'you my': 2954, 'people on': 1850, 'flight have': 875, 'customerservice': 634, 'line': 1419, 'hang': 1081, 'your service': 2992, 'be hang': 316, 'hang up': 1082, 'up on': 2643, 'on this': 1773, 'hang up on': 1083, 'info': 1266, 'in and': 1243, 'be get': 309, 'get the': 1030, 'weather': 2775, 'look': 1435, 'be schedule': 363, 'flight today': 896, 'change to': 540, 'look like': 1441, 'still on': 2175, 'lot': 1447, 'lot of': 1448, 'have great': 1106, 'come': 570, 'phl': 1856, 'horrible': 1168, 'back to': 251, 'to phl': 2490, 'we need': 2771, 'you to': 2970, 'of this': 1728, 'concern': 585, 'be about': 274, 'about to': 8, 'fly on': 918, 'on plane': 1763, 'delay due': 656, 'need to be': 1607, 'delay due to': 657, 'helpful': 1139, 'have fly': 1104, 'rep': 1952, 'your team': 2996, 'right': 1972, 'bc': 269, 'be down': 303, 'right now': 1973, 'but it': 457, 'my ticket': 1594, 'but it be': 458, 'run': 1988, 'gate': 1003, 'wait': 2736, 'keep': 1354, 'wait for': 2737, 'delay flight': 658, 'and they': 157, 'totally': 2538, 'folks': 929, 'problem': 1905, 'and now': 147, 'flight flight': 871, 'the problem': 2320, 'min': 1525, 'connect': 591, 'seem': 2026, 'long': 1433, 'the customer': 2281, 'the customer service': 2282, 'san': 1995, 'thank to': 2246, 'to your': 2524, 'get me': 1023, 'me home': 1487, 'home to': 1162, 'to san': 2495, 'get me home': 1024, 'absolute': 11, 'have the': 1119, 'service ever': 2045, 'provide': 1911, 'first class': 834, 'if there': 1227, 'there be': 2350, 'if there be': 1228, 'flight that': 890, 'hours and': 1179, 'wait time': 2742, 'time on': 2409, 'be call': 292, 'change my flight': 538, 'flight that be': 891, 'completely': 583, 'month': 1548, 'nonstop': 1645, 'depart': 670, 'thank for': 2239, 'flight cancel': 861, 'flightled and': 907, 'what do': 2796, 'do do': 703, 'if it': 1223, 'flight cancel flightled': 863, 'cancel flightled and': 511, 'if it be': 1224, 'customers': 633, 'process': 1907, 'link': 1422, 'tsa': 2561, 'your customers': 2984, 'terrible': 2231, 'hotel': 1169, 'give us': 1042, 'have flight': 1103, 'assistance': 213, 'yesterday': 2913, 'our': 1811, 'when you': 2810, 'you cancel': 2927, 'our flight': 1815, 'be to': 388, 'to give': 2463, 'on you': 1780, 'you cancel flightled': 2929, 'our flight be': 1816, 'longer': 1434, 'pls': 1884, 'advise': 24, 'be an': 279, 'for make': 950, 'make it': 1463, 'so can': 2088, 'on my flight': 1760, 'drop': 741, 'always': 63, 'them': 2345, 'frustrate': 994, 'your flight': 2987, 'when we': 2808, 'extra': 797, 'luggage': 1458, 'might': 1521, 'hire': 1148, 'you would': 2975, 'world': 2882, 'the world': 2339, 'take the': 2215, 'flt': 914, 'midnight': 1520, 'monday': 1546, 'that would': 2267, 'great customer': 1063, 'that would be': 2268, 'would be great': 2893, 'great customer service': 1064, 'imagine': 1235, 'web': 2778, 'for flight': 944, 'flight can': 860, 'as the': 207, 'to weather': 2521, 'be on time': 350, 'staff': 2153, 'super': 2192, 'me with': 1501, 'offer': 1736, 'sad': 1990, 'you cancel flight': 2928, 'flight my flight': 883, 'my flight and': 1577, 'question': 1919, 'under': 2578, 'him': 1147, 'possible to': 1894, 'to book': 2422, 'seat for': 2017, 'not give': 1666, 'give me': 1040, 'me the': 1497, 'but we': 465, 'it be not': 1287, 'welcome': 2787, 'dc': 646, 'flight home': 877, 'to dc': 2442, 'to work': 2522, 'understand': 2579, 'dm': 696, 'damage': 637, 'policy': 1889, 'not understand': 1692, 'why you': 2833, 'do not understand': 721, 'if you have': 1232, 'do that': 725, 'that mean': 2261, 'special': 2149, 'alone': 59, 'kid': 1357, 'priority': 1903, 'board': 431, 'purchase': 1913, 'happy': 1086, 'you for': 2935, 'ticket be': 2397, 'thank you for': 2248, 'definitely': 651, 'dfw': 682, 'flight out': 887, 'to dfw': 2445, 'flight out of': 888, 'friday': 984, 'use my': 2712, 'error': 771, 'contact': 596, 'minute': 1529, 'on the': 1766, 'and to': 159, 'to contact': 2438, 'reschedule': 1959, 'my cancel': 1568, 'fix': 838, 'be wait': 398, 'the same': 2326, 'be wait for': 399, 'tomorrow': 2529, 'unacceptable': 2576, 'get flight': 1017, 'we be': 2759, 'be tell': 377, 'check my': 549, 'for tomorrow': 969, 'be unacceptable': 394, 'into': 1277, 'stick': 2165, 'flight into': 879, 'be cancel': 293, 'be stick': 369, 'stick in': 2166, 'call to': 482, 'to reschedule': 2494, 'could get': 604, 'be cancel flight': 294, 'be stick in': 370, 'include': 1263, 'why do': 2827, 'why do not': 2828, 'the website': 2338, 'to have': 2466, 'agent': 32, 'close': 562, 'assist': 212, 'that the': 2263, 'the agent': 2272, 'at the': 225, 'in line': 1252, 'austin': 236, 'route': 1979, 'plan to': 1871, 'receive': 1938, 'reply': 1953, 'smh': 2083, 'airport': 43, 'checkin': 550, 'desk': 677, 'open': 1796, 'airport and': 44, 'wait to': 2743, 'into the': 1278, 'begin': 415, 'flight in': 878, 'fuck': 995, 'unite': 2584, 'fl': 841, 'you just': 2950, 'just get': 1346, 'all my': 54, 'back and': 248, 'this week': 2384, 'would love': 2898, 'love to': 1452, 'to know': 2472, 'be for': 308, 'would love to': 2899, 'follow': 930, 'you for the': 2936, 'many': 1473, 'worse': 2884, 'respond': 1963, 'you the': 2968, 'respond to': 1964, 'do not even': 712, 'spend': 2150, 'money': 1547, 'strand': 2182, 'reimburse': 1948, 'other airlines': 1808, 'land at': 1378, 'at jfk': 220, 'dm you': 698, 'choice': 554, 'southwest': 2108, 'you please': 2958, 'fly southwest': 921, 'to vegas': 2519, 'can you please': 502, 'days': 644, 'confirmation': 589, 'claim': 557, 'you say': 2960, 'say it': 2002, 'it take': 1298, 'notification': 1702, 'rebook': 1935, 'tomorrow be': 2530, 'time be': 2403, 'on another': 1745, 'another airline': 170, 'be cancel flightled': 295, 'gold': 1058, 'guy have': 1076, 'you guy have': 2944, 'worst': 2885, 'what can': 2795, 'for nothing': 959, 'worst airline': 2886, 'airline ever': 39, 'thank for nothing': 2241, 'stuff': 2185, 'wrong': 2905, 'for all': 936, 'it have': 1292, 'issue': 1279, 'head': 1130, 'an issue': 123, 'you help': 2948, 'head to': 1131, 'can you help': 501, 'you help me': 2949, 'americanairlines': 114, 'you will': 2973, 'flight with': 900, 'and your': 165, 'try to book': 2556, 'to book flight': 2423, 'with you guy': 2870, 'suck': 2188, 'you suck': 2964, 'flightlation': 904, 'notice': 1701, 'drive': 740, 'cancel flightlation': 508, 'to la': 2473, 'boston': 439, 'have any': 1094, 'flightled my': 909, 'not do': 1660, 'you have any': 2946, 'cancel flightled my': 513, 'flightled my flight': 910, 'and do not': 132, 'expect': 789, 'to rebook': 2493, 'flight cancel flight': 862, 'high': 1146, 'it for': 1291, 'for our': 960, 'quick': 1920, 'apparently': 189, 'the quick': 2321, 'quick response': 1921, 'sit on': 2074, 'send': 2032, 'get cancel': 1015, 'just send': 1350, 'send you': 2036, 'you dm': 2931, 'to help': 2468, 'my flight from': 1579, 'get cancel flightled': 1016, 'keep up': 1356, 'up the': 2645, 'ny': 1717, 'me to': 1498, 'pilot': 1867, 'job': 1342, 'snow': 2085, 'great flight': 1065, 'to boston': 2425, 'great job': 1066, 'the snow': 2329, 'can we': 499, 'we go': 2766, 'go back': 1047, 'area': 197, 'afternoon': 30, 'the new': 2305, 'get me to': 1025, 'thank so': 2244, 'much for': 1557, 'thank so much': 2245, 'so much for': 2091, 'row': 1980, 'mention': 1510, 'seat in': 2018, 'in row': 1257, 'mechanical': 1504, 'handle': 1080, 'drink': 739, 'flight delay': 866, 'delay hours': 660, 'you could': 2930, 'could have': 605, 'cancel flight flight': 506, 'twitter': 2567, 'kill': 1358, 'charge': 541, 'refuse': 1945, 'refund': 1944, 'charge me': 543, 'be now': 344, 'refuse to': 1946, 'cancel flight and': 505, 'access': 15, 'passbook': 1838, 'seem to': 2028, 'the email': 2285, 'break': 442, 'be break': 291, 'forward': 978, 'look forward': 1438, 'forward to': 979, 'when it': 2805, 'it will': 1300, 'look forward to': 1439, 'delay on': 661, 'the next': 2306, 'go to': 1053, 'do it': 707, 'the link': 2303, 'cost': 602, 'ugh': 2572, 'to another': 2418, 'get to': 1035, 'able to': 2, 'but not': 460, 'to get to': 2462, 'along': 60, 'first flight': 835, 'put': 1915, 'when be': 2802, 'be you': 404, 'back home': 249, 'you go': 2940, 'but no': 459, 'to dallas': 2441, 'be you go': 405, 'you go to': 2941, 'report': 1954, 'be just': 328, 'center': 528, 'bite': 427, 'hold time': 1158, 'call center': 478, 'attendant': 233, 'flight attendant': 850, 'base': 266, 'something': 2099, 'be look': 333, 'departure': 672, 'the delay': 2284, 'from jfk': 989, 'guy be': 1074, 'love you': 1453, 'you guy be': 2943, 'love you guy': 1454, 'sound': 2106, 'fun': 997, 'update': 2648, 'any update': 179, 'update on': 2649, 'on flight from': 1750, 'count': 609, 'our bag': 1812, 'we be on': 2760, 'be on flight': 347, 'continue': 598, 'to do': 2447, 'but the': 462, 'and the': 153, 'sort': 2105, 'for your': 973, 'for help': 946, 'me get': 1486, 'my travel': 1596, 'thank for your': 2243, 'over the': 1827, 'while': 2817, 'ice': 1217, 'coffee': 568, 'at gate': 219, 'in boston': 1244, 'get an': 1010, 'passenger': 1839, 'trust': 2553, 'he': 1128, 'file': 821, 'should not': 2061, 'he be': 1129, 'destination': 679, 'luggage be': 1459, 'baggage claim': 264, 'in san': 1258, 'any help': 177, 'easy': 751, 'itinerary': 1303, 'see': 2023, 'become': 413, 'march': 1474, 'to see': 2497, 'entire': 769, 'the entire': 2287, 'to start': 2504, 'improve': 1240, 'be do': 302, 'the air': 2273, 'request': 1957, 'window': 2853, 'confirm': 588, 'treat': 2547, 'seat and': 2015, 'not good': 1669, 'be what': 401, 'wtf': 2906, 'frequent': 983, 'inconvenience': 1264, 'pay for': 1847, 'not to': 1691, 'full': 996, 'my baggage': 1565, 'place': 1868, 'not want': 1694, 'to buy': 2426, 'the first': 2290, 'do not want': 722, 'not want to': 1695, 'result': 1966, 'instead': 1271, 'instead of': 1272, 'make the': 1468, 'think you': 2371, 'just do': 1345, 'cabin': 474, 'behind': 416, 'we have': 2767, 'fly to': 922, 'still wait': 2177, 'tell me': 2224, 'still wait for': 2178, 'suitcase': 2190, 'send dm': 2034, 'be charge': 297, 'me for': 1485, 'be in': 323, 'be in the': 324, 'past': 1843, 'who do': 2821, 'on the plane': 1770, 'order': 1803, 'to follow': 2455, 'to dm': 2446, 'tell to': 2227, 'be why': 402, 'that be why': 2254, 'husband': 1214, 'screen': 2012, 'light': 1411, 'to leave': 2475, 'all flight': 53, 'flight you': 902, 'you can': 2924, 'funny': 999, 'story': 2181, 'wonder': 2874, 'despite': 678, 'so be': 2087, 'few': 818, 'the airport': 2274, 'go to the': 1056, 'to the airport': 2513, 'say we': 2008, 'safety': 1992, 'not wait': 1693, 'return flight': 1968, 'just to': 1351, 'can not wait': 497, 'day': 641, 'my luggage': 1586, 'me back': 1483, 'lose my luggage': 1446, 'of your': 1732, 'look into': 1440, 'seem to be': 2029, 'rout': 1978, 'newark': 1619, 'hope': 1165, 'just want': 1352, 'just want to': 1353, 'probably': 1904, 'on board': 1746, 'happy to': 1087, 'the day': 2283, 'save': 1998, 'standby': 2157, 'miss my flight': 1540, 'they be': 2354, 'me out': 1493, 'it all': 1283, 'absolutely': 12, 'ready': 1929, 'manage': 1472, 'for me': 951, 'old': 1742, 'battle': 267, 'could you': 608, 'help with': 1138, 'with flight': 2860, 'service to': 2049, 'less': 1400, 'half': 1078, 'price': 1901, 'round': 1976, 'less than': 1401, 'round trip': 1977, 'be happen': 317, 'one way': 1790, 'sell': 2031, 'how about': 1191, 'on the flight': 1767, 'contact me': 597, 'jfk to': 1341, 'promise': 1909, 'still no': 2173, 'care': 518, 'her': 1140, 'take care': 2210, 'care of': 520, 'take care of': 2211, 'lovely': 1455, 'thank for the': 2242, 'mileage': 1523, 'several': 2051, 'do get': 704, 'with this': 2866, 'how do get': 1195, 'ticket to': 2399, 'look for': 1437, 'be my': 338, 'americanair': 68, 'americanair can': 72, 'americanair can you': 73, 'you and': 2918, 'glad': 1044, 'years': 2910, 'take my': 2213, 'earn': 750, 'message': 1515, 'you should': 2961, 'hop': 1164, 'force': 975, 'small': 2082, 'carry': 521, 'empty': 760, 'space': 2144, 'experience be': 792, 'be hop': 321, 'carry on': 522, 'slow': 2081, 'be our': 353, 'our luggage': 1817, 'representative': 1955, 'loyal': 1456, 'speak with': 2148, 'as well': 208, 'that your': 2270, 'rd': 1924, 'leave my': 1397, 'partner': 1835, 'be all': 275, 'than the': 2236, 'would like': 2896, 'turn': 2563, 'course': 612, 'family': 806, 'of course': 1721, 'work for': 2879, 'ok': 1739, 'just need': 1349, 'receipt': 1937, 'please help': 1883, 'currently': 623, 'be currently': 299, 'up to': 2646, 'have ever': 1102, 'pick': 1865, 'tweet': 2565, 'get it': 1022, 'pick up': 1866, 'should have': 2060, 'rental': 1951, 'car': 516, 'do not work': 723, 'delay to': 663, 'cust': 624, 'child': 552, 'hold with': 1160, 'cust service': 625, 'on hold with': 1756, 'chance': 531, 'any chance': 176, 'you want': 2971, 'you want to': 2972, 'bank': 265, 'joke': 1343, 'be joke': 327, 'also': 62, 'can dm': 486, 'you have to': 2947, 'from your': 992, 'flight crew': 865, 'tix': 2412, 'yr': 2998, 'flight yesterday': 901, 'great service': 1067, 'flight change': 864, 'submit': 2186, 'and still': 148, 'and still have': 149, 'have me': 1111, 'me at': 1482, 'it look': 1293, 'ceo': 529, 'jetblue have': 1315, 'your plan': 2991, 'plan be': 1870, 'pull': 1912, 'computer': 584, 'can get': 488, 'for this': 968, 'can not even': 494, 'and can': 128, 'pay extra': 1846, 'and can not': 129, 'those': 2386, 'guess': 1072, 'flight at': 849, 'the end': 2286, 'for that': 964, 'to make': 2478, 'now you': 1713, 'announce': 167, 'never be': 1612, 'deserve': 676, 'fyi': 1001, 'address': 23, 'the info': 2299, 'email address': 756, 'say to': 2007, 'svc': 2201, 'no help': 1634, 'app': 188, 'favorite': 812, 'then you': 2347, 'uk': 2573, 'which be': 2816, 'pay to': 1848, 'set': 2050, 'mexico': 1516, 'see you': 2025, 'waste': 2752, 'and make': 141, 'make me': 1465, 'system': 2206, 'accept': 13, 'that have': 2259, 'likely': 1417, 'make this': 1469, 'charge for': 542, 'learn': 1393, 'no longer': 1635, 'one of': 1787, 'who be': 2819, 'one of your': 1789, 'the most': 2304, 'service have': 2046, 'customer service have': 632, 'philadelphia': 1854, 'come to': 572, 'between': 421, 'houston': 1189, 'might be': 1522, 'finally': 825, 'avgeek': 240, 'forget': 976, 'nice to': 1626, 'but do': 454, 'here in': 1143, 'but do not': 455, 'kind': 1359, 'future': 1000, 'kind of': 1360, 'poor': 1890, 'diego': 684, 'san diego': 1996, 'southwestair on': 2128, 'make my': 1466, 'my day': 1572, 'each': 746, 'miss the': 1542, 'excellent': 784, 'only one': 1793, 'that you': 2269, 'be strand': 372, 'last time': 1384, 'but this': 464, 'this one': 2381, 'group': 1071, 'room': 1975, 'all of': 55, 'be no': 340, 'no more': 1636, 'get on': 1028, 'plane be': 1874, 'bag in': 260, 'there be no': 2351, 'the plane be': 2318, 'nightmare': 1628, 'the gate': 2293, 'thank for make': 2240, 'at the gate': 227, 'of flight': 1722, 'for over': 961, 'have be on': 1098, 'be on the': 349, 'on the phone': 1769, 'about the': 7, 'sure': 2198, 'be sure': 375, 'now it': 1708, 'shit': 2056, 'get your': 1038, 'bump': 446, 'would have': 2895, 'be that': 379, 'stay': 2162, 'raise': 1922, 'come on': 571, 'man': 1471, 'wifi': 2836, 'with me': 2861, 'saw': 1999, 'it to': 1299, 'you get': 2938, 'part': 1833, 'whole': 2822, 'part of': 1834, 'short': 2057, 'airline in': 40, 'one of the': 1788, 'overhead': 1829, 'person': 1852, 'ask': 209, 'my call': 1567, 'call the': 481, 'ask for': 210, 'for more': 956, 'luck': 1457, 'not cancel': 1656, 'get home': 1020, 'be say': 362, 'good luck': 1060, 'accommodate': 17, 'strand in': 2183, 'for days': 943, 'will do': 2840, 'do the': 726, 'lol': 1432, 'others': 1810, 'actual': 20, 'travelers': 2546, 'storm': 2180, 'complete': 582, 'by the': 472, 'no reason': 1639, 'not just': 1674, 'cut': 635, 'philly': 1855, 'same flight': 1994, 'leave in': 1396, 'months': 1549, 'you give': 2939, 'time but': 2404, 'how long': 1197, 'reps': 1956, 'be book': 290, 'regard': 1947, 'and we': 162, 'be able to': 273, 'actually': 21, 'look at': 1436, 'unite thank': 2613, 'unite thank for': 2614, 'word': 2876, 'resolve': 1962, 'lack': 1374, 'deice': 652, 'lack of': 1375, 'line for': 1421, 'fill': 822, 'it out': 1295, 'connections': 594, 'unite your': 2635, 'international': 1274, 'orlando': 1805, 'mins': 1528, 'international flight': 1275, 'unite you': 2633, 'wof': 2873, 'serious': 2038, 'no way': 1641, 'of an': 1720, 'way to get': 2757, 'get to the': 1036, 'gate agent': 1004, 'me up': 1499, 'up with': 2647, 'domestic': 735, 'do we': 730, 'be at': 282, 'airport for': 46, 'we have to': 2769, 'have to be': 1122, 'unite why': 2628, 'why not': 2831, 'oh': 1738, 'auto': 237, 'unite be': 2588, 'the worst': 2340, 'be the worst': 384, 'transfer': 2542, 'security': 2022, 'unite do': 2592, 'follow me': 931, 'this airline': 2373, 'unite no': 2606, 'unite have': 2597, 'have my': 1113, 'info on': 1267, 'unite if': 2600, 'if the': 1226, 'be lose': 334, 'this be not': 2375, 'unite just': 2603, 'case': 523, 'unite yes': 2632, 'send an': 2033, 'an email': 120, 'wonderful': 2875, 'to let': 2476, 'know how': 1362, 'the gate agent': 2294, 'voucher': 2734, 'they say': 2362, 'say they': 2006, 'they would': 2364, 'never get': 1615, 'company': 576, 'maybe': 1478, 'unite the': 2618, 'your company': 2980, 'they will': 2363, 'me in': 1488, 'pass': 1837, 'son': 2100, 'me on': 1492, 'unite and': 2586, 'unite that': 2616, 'unite that be': 2617, 'an earlier': 118, 'unite do not': 2593, 'an earlier flight': 119, 'miami': 1518, 'be give': 310, 'in miami': 1253, 'and need': 143, 'but they': 463, 'total': 2537, 'own': 1831, 'explain': 795, 'talk': 2217, 'do have': 705, 'hours to': 1188, 'my own': 1589, 'like to': 1415, 'to talk': 2509, 'talk to': 2218, 'do have to': 706, 'to get my': 2459, 'would like to': 2897, 'to talk to': 2510, 'almost': 58, 'ppl': 1897, 'daughter': 640, 'care about': 519, 'be more': 337, 'flightr': 912, 'the pilot': 2316, 'be late': 329, 'keep get': 1355, 'late flightr': 1389, 'be late flight': 330, 'late flight and': 1388, 'anymore': 181, 'platinum': 1878, 'gate for': 1008, 'my last': 1584, 'flight it': 880, 'badcustomerservice': 255, 'unite how': 2599, 'not take': 1688, 'agents': 33, 'rude': 1984, 'be with': 403, 'the last': 2301, 'be nice': 339, 'we have be': 2768, 'overnight': 1830, 'with an': 2857, 'hr': 1203, 'iah': 1216, 'be take': 376, 'to find': 2450, 'find out': 830, 'dmed': 699, 'detail': 681, 'charlotte': 544, 'ignore': 1234, 'touch': 2539, 'know the': 1367, 'your help': 2989, 'me what': 1500, 'issue with': 1281, 'for your help': 974, 'form': 977, 'vouchers': 2735, 'another flight': 171, 'at your': 229, 'anywhere': 185, 'why have': 2830, 'not receive': 1682, 'call back': 477, 'thank again': 2238, 'customer care': 627, 'grind': 1069, 'unite well': 2625, 'the grind': 2296, 'sit on the': 2075, 'on the grind': 1768, 'the good': 2295, 'else': 754, 'to not': 2483, 'travel with': 2544, 'appreciate': 194, 'tarmac': 2220, 'ua': 2571, 'how you': 1201, 'hrs on': 1208, 'the tarmac': 2331, 'on the tarmac': 1772, 'on me': 1758, 'unite thank you': 2615, 'up on me': 2644, 'board pass': 432, 'unite my': 2604, 'bag be': 259, 'my bag be': 1564, 'and have to': 137, 'rule': 1987, 'enough': 766, 'denver': 668, 'they do': 2359, 'number to': 1716, 'they do not': 2360, 'make it to': 1464, 'train': 2541, 'mistake': 1543, 'to put': 2491, 'ord': 1802, 'avoid': 241, 'supervisor': 2193, 'connect flight': 592, 'not help': 1673, 'unite will': 2630, 'you again': 2916, 'hour and': 1171, 'arrive at': 201, 'my destination': 1573, 'hrs late': 1206, 'flight be delay': 854, 'an hour and': 122, 'flight do': 867, 'us on': 2657, 'flight now': 885, 'now have': 1707, 'flight do not': 868, 'require': 1958, 'fly unite': 923, 'thru': 2392, 'dept': 675, 'connection': 593, 'will to': 2850, 'upset': 2651, 'employees': 759, 'equipment': 770, 'with your': 2871, 'your employees': 2985, 'not think': 1690, 'be put': 356, 'do not think': 720, 'mom': 1545, 'emergency': 757, 'miles': 1524, 'as be': 203, 'be always': 277, 'complain': 579, 'unite not': 2607, 'the bag': 2276, 'up for': 2640, 'american': 66, 'coach': 566, 'bird': 425, 'use the': 2713, 'control': 599, 'rather': 1923, 'to customer': 2439, 'they can': 2356, 'can help': 489, 'delta': 666, 'attendants': 234, 'unhelpful': 2583, 'bother': 441, 'unite what': 2626, 'unite what be': 2627, 'attempt': 232, 'me miss': 1490, 'make up': 1470, 'for it': 949, 'you can not': 2926, 'believe': 417, 'not like': 1679, 'to someone': 2500, 'who can': 2820, 'the baggage': 2277, 'stand': 2156, 'to board': 2421, 'record': 1939, 'unite it': 2601, 'unite it be': 2602, 'thx for': 2394, 'these': 2352, 'that my': 2262, 'read': 1928, 'the point': 2319, 'if your': 1233, 'everyone': 780, 'unite try': 2622, 'everyone be': 781, 'be rude': 360, 'in houston': 1251, 'for hours': 947, 'of you': 1731, 'not make': 1680, 'delay be': 655, 'switch': 2204, 'aircraft': 36, 'crash': 614, 'winter': 2854, 'for you': 972, 'unite on': 2609, 'on to': 1775, 'for bag': 941, 'reach': 1927, 'honor': 1163, 'unite ua': 2623, 'now be': 1706, 'to hear': 2467, 'pathetic': 1844, 'the reply': 2322, 'for the reply': 967, 'today and': 2526, 'off the': 1734, 'and have be': 136, 'unite so': 2612, 'the other': 2312, 'the seat': 2327, 'baby': 246, 'mine': 1527, 'you will not': 2974, 'so we': 2092, 'sit here': 2072, 'unite but': 2589, 'hard to': 1089, 'to stay': 2505, 'when they': 2807, 'apology': 187, 'not care': 1657, 'do not care': 711, 'unite this': 2619, 'unite this be': 2620, 'finger': 832, 'enjoy': 765, 'very disappoint': 2720, 'would rather': 2901, 'zero': 2999, 'excuse': 787, 'cause': 526, 'members': 1509, 'be sit': 365, 'not sure': 1687, 'sure what': 2199, 'and then': 154, 'because be': 408, 'weekend': 2784, 'unite please': 2610, 'be good': 314, 'flightd': 903, 'and get': 133, 'get back': 1012, 'you can do': 2925, 'be hold': 320, 'with unite': 2867, 'on that': 1765, 'listen': 1424, 'listen to': 1425, 'limit': 1418, 'so you': 2094, 'after be': 27, 'in an': 1242, 'appear': 190, 'it do': 1289, 'it do not': 1290, 'for me to': 952, 'hour flight': 1174, 'but still': 461, 'the flight be': 2292, 'unite can': 2590, 'not able': 1648, 'confirmation number': 590, 'not able to': 1649, 'for hrs': 948, 'go to be': 1054, 'unhappy': 2582, 'complaint': 580, 'awful': 245, 'jet': 1305, 'unite we': 2624, 'matter': 1476, 'atl': 230, 'at be': 216, 'flight be cancel': 853, 'get out': 1029, 'to you': 2523, 'my connection': 1571, 'be miss': 336, 'miss my connection': 1539, 'of time': 1729, 'time to': 2410, 'so what': 2093, 'when the': 2806, 'the one': 2310, 'fill out': 823, 'worth': 2890, 'the response': 2323, 'airports': 47, 'access to': 16, 'conf': 587, 'not see': 1683, 'unite flight': 2595, 'communication': 573, 'flight this': 893, 'this time': 2383, 'far': 809, 'note': 1699, 'so far': 2089, 'not an': 1651, 'that be not': 2252, 'we get': 2765, 'be horrible': 322, 'to pay': 2488, 'unite why do': 2629, 'have to pay': 1124, 'to pay for': 2489, 'top': 2536, 'unitedairlines': 2636, 'have lose': 1109, 'kudos': 1371, 'flightling': 911, 'usually': 2716, 'cancel flightling': 514, 'this morning': 2380, 'and my': 142, 'advisory': 25, 'to ord': 2485, 'remember': 1950, 'extremely': 798, 'captain': 515, 'real': 1931, 'unite to': 2621, 'by your': 473, 'why would': 2832, 'clothe': 563, 'be ask': 281, 'leg': 1399, 'chicago': 551, 'lounge': 1449, 'if be': 1221, 'to chicago': 2436, 'in chicago': 1246, 'hours ago': 1178, 'if my': 1225, 'can make': 490, 'okay': 1741, 'call for': 479, 'your agents': 2978, 'at this': 228, 'to customer service': 2440, 'onto': 1795, 'my connect': 1569, 'my connect flight': 1570, 'impossible': 1238, 'terminal': 2230, 'two hours': 2570, 'the hour': 2298, 'hour delay': 1173, 'number for': 1715, 'bag to': 262, 'for two': 970, 'two days': 2569, 'arrival': 199, 'how many': 1198, 'information': 1269, 'unite any': 2587, 'vacation': 2717, 'be send': 364, 'you follow': 2934, 'because it': 409, 'nope': 1646, 'sleep': 2079, 'tell us': 2228, 'go home': 1049, 'even though': 775, 'we would': 2774, 'at the airport': 226, 'ruin': 1986, 'compensation': 578, 'his': 1149, 'original': 1804, 'have you': 1127, 'never again': 1611, 'delay for': 659, 'be already': 276, 'have have': 1107, 'unite would': 2631, 'deliver': 664, 'delivery': 665, 'be deliver': 301, 'to wait': 2520, 'have to wait': 1125, 'feel like': 817, 'not leave': 1676, 'be one': 351, 'unite you be': 2634, 'write': 2904, 'we do': 2763, 'we do not': 2764, 'employee': 758, 'blame': 428, 'us to': 2658, 'flight get': 874, 'unite airlines': 2585, 'on ua': 1777, 'unite send': 2611, 'they be not': 2355, 'be run': 361, 'this plane': 2382, 'the help': 2297, 'for the help': 966, 'yes but': 2912, 'like you': 1416, 'feedback': 815, 'tire': 2411, 'day of': 643, 'hope you': 1166, 'help us': 1137, 'clt': 564, 'hours late': 1181, 'hours late flight': 1182, 'idea': 1219, 'neveragain': 1616, 'to fix': 2451, 'fix this': 840, 'we just': 2770, 'figure': 819, 'screw': 2013, 'how to': 1200, 'the night': 2308, 'lose bag': 1443, 'counter': 610, 'very helpful': 2722, 'still sit': 2176, 'unfortunately': 2581, 'flight no': 884, 'premier': 1899, 'annoy': 168, 'know you': 1370, 'phoenix': 1858, 'all day': 52, 'your staff': 2994, 'staff be': 2155, 'not the': 1689, 'of my': 1724, 'of my flight': 1725, 'flight ua': 898, 'gate and': 1006, 'and tell': 151, 'not have to': 1672, 'front': 993, 'through the': 2390, 'fact': 800, 'not change': 1658, 'change the': 539, 'the fact': 2288, 'fact that': 801, 'do not make': 717, 'the fact that': 2289, 'walk': 2744, 'and will': 163, 'would not': 2900, 'of us': 1730, 'bwi': 470, 'for us': 971, 'get off': 1027, 'unite can you': 2591, 'bs': 444, 'stick on': 2167, 'tarmac for': 2221, 'over hours': 1825, 'to miss': 2480, 'for over hours': 963, 'go to miss': 1055, 'to miss my': 2481, 'consider': 595, 'unable': 2574, 'unable to': 2575, 'now thank': 1710, 'time and': 2402, 'seem like': 2027, 'tag': 2208, 'impress': 1239, 'year old': 2909, 'with them': 2865, 'me be': 1484, 'ridiculous': 1971, 'at ord': 223, 'that will': 2266, 'will have': 2842, 'bag on': 261, 'say it be': 2003, 'where be': 2812, 'where be my': 2813, 'to denver': 2444, 'once again': 1784, 'and not': 146, 'be ridiculous': 359, 'to go to': 2465, 'fall': 805, 'fleet': 844, 'serve': 2040, 'me my': 1491, 'what give': 2797, 'major': 1461, 'be this': 387, 'to our': 2487, 'situation': 2077, 'sit at': 2071, 'literally': 1426, 'americanair so': 91, 'day and': 642, 'and half': 134, 'list': 1423, 'for min': 953, 'sleep in': 2080, 'inside': 1270, 'the crew': 2280, 'very frustrate': 2721, 'the app': 2275, 'days and': 645, 'gate agents': 1005, 'back on': 250, 'hrs of': 1207, 'an update': 124, 'final': 824, 'only to': 1794, 'today be': 2527, 'not your': 1698, 'deal with': 649, 'to and': 2417, 'rude and': 1985, 'failure': 803, 'airplane': 42, 'over an': 1823, 'for over an': 962, 'over an hour': 1824, 'will get': 2841, 'however': 1202, 'be and': 280, 'to gate': 2456, 'gate be': 1007, 'be go to': 313, 'you tell': 2966, 'you tell me': 2967, 'clear': 560, 'plane to': 1877, 'date': 639, 'will never': 2845, 'never fly': 1613, 'will never fly': 2846, 'never fly with': 1614, 'with you again': 2869, 'find it': 828, 'here be': 1142, 'the ticket': 2333, 'to try': 2516, 'aa': 0, 'lie': 1409, 'unite do you': 2594, 'that can': 2255, 'can be': 485, 'need to get': 1609, 'catch': 524, 'find my': 829, 'at all': 215, 'when do': 2804, 'do not see': 719, 'fair': 804, 'den': 667, 'how do you': 1196, 'bag and': 258, 'reservations': 1961, 'office': 1737, 'please follow': 1882, 'plane and': 1873, 'do to': 729, 'to speak with': 2503, 'damn': 638, 'tell that': 2226, 'no bag': 1631, 'any idea': 178, 'if can': 1222, 'the us': 2335, 'miss our': 1541, 'flight the': 892, 'of our': 1726, 'why do you': 2829, 'tho': 2385, 'reflight': 1941, 'reflight book': 1942, 'reflight book problems': 1943, 'have make': 1110, 'unite now': 2608, 'the issue': 2300, 'be terrible': 378, 'no flight': 1632, 'hours late flightr': 1183, 'your gate': 2988, 'they can not': 2357, 'see my': 2024, 'single': 2068, 'be not the': 342, 'steal': 2163, 'tomorrow morning': 2531, 'cs': 621, 'tuesday': 2562, 'this be the': 2377, 'use to': 2714, 'that be the': 2253, 'fit': 837, 'southwestair do': 2116, 'do they': 727, 'deny': 669, 'have never': 1114, 'worst customer': 2887, 'worst customer service': 2888, 'etc': 773, 'ticket and': 2396, 'my money': 1587, 'and there': 155, 'have the worst': 1120, 'the worst customer': 2342, 'and there be': 156, 'ticket for': 2398, 'service and': 2042, 'terrible customer': 2232, 'service at': 2043, 'terrible customer service': 2233, 'customer service at': 630, 'power': 1896, 'id': 1218, 'my flight be': 1578, 'unite need': 2605, 'time have': 2407, 'be the last': 382, 'phone and': 1860, 'for no': 958, 'now we': 1711, 'phone for': 1861, 'hour on': 1175, 'on our': 1761, 'the phone for': 2315, 'multiple': 1558, 'the worst airline': 2341, 'dm me': 697, 'me and': 1481, 'the service': 2328, 'angry': 166, 'change flight': 535, 'give you': 1043, 'do your': 734, 'merger': 1512, 'switch to': 2205, 'do be': 702, 'flyers': 928, 'be better': 289, 'state': 2159, 'maintenance': 1460, 'personal': 1853, 'still not': 2174, 'level': 1407, 'sick': 2064, 'prompt': 1910, 'appreciate the': 196, 'friend': 985, 'twice': 2566, 'be find': 304, 'the time': 2334, 'finally get': 826, 'you not': 2957, 'wait in': 2739, 'talk to someone': 2219, 'choose': 555, 'difference': 685, 'unite hi': 2598, 'guy do': 1075, 'the status': 2330, 'status of': 2161, 'to this': 2515, 'us in': 2656, 'work with': 2881, 'can not be': 492, 'allow': 57, 'think it': 2369, 'think it be': 2370, 'wait on': 2740, 'on tarmac': 1764, 'have be wait': 1101, 'the past': 2313, 'over the phone': 1828, 'redeem': 1940, 'cc': 527, 'for be': 942, 'be up': 395, 'what be up': 2793, 'be up with': 396, 'myself': 1600, 'on flight to': 1751, 'rebooked': 1936, 'be rebooked': 358, 'the line': 2302, 'line be': 1420, 'ok thank': 1740, 'sunday': 2191, 'not happy': 1670, 'assign': 211, 'change it': 536, 'sense': 2037, 'hours for': 1180, 'hate': 1090, 'huge': 1212, 'on an': 1744, 'send me': 2035, 'hr delay': 1204, 'it and': 1284, 'badservice': 256, 'give up': 1041, 'miss connection': 1535, 'do not help': 715, 'where it': 2814, 'have be delay': 1097, 'flight have be': 876, 'have be cancel': 1096, 'above': 10, 'you for your': 2937, 'to get on': 2460, 'hopefully': 1167, 'complaints': 581, 'in denver': 1248, 'due to weather': 744, 'put me': 1916, 'new flight': 1618, 'put me on': 1917, 'this be ridiculous': 2376, 'you so': 2962, 'hell': 1133, 'do not you': 724, 'flight so': 889, 'rdu': 1925, 'onboard': 1782, 'crew be': 619, 'the right': 2324, 'since be': 2067, 'to the gate': 2514, 'off the plane': 1735, 'minutes and': 1531, 'ready to': 1930, 'usairways': 2660, 'usairwaysfail': 2710, 'americanair usairways': 102, 'usairways that': 2694, 'usairways that be': 2695, 'time in': 2408, 'my bag and': 1563, 'you you': 2976, 'you need to': 2956, 'suggest': 2189, 'freeze': 982, 'wifi on': 2837, 'to get home': 2458, 'door': 736, 're': 1926, 'know how to': 1363, 'engine': 764, 'bc of': 270, 'from you': 991, 'it be the': 1288, 'to figure': 2449, 'for almost': 937, 'very much': 2723, 'airport be': 45, 'deplane': 674, 'next flight': 1622, 'not believe': 1654, 'departure time': 673, 'be ok': 345, 'miss connections': 1536, 'if you be': 1230, 'get there': 1031, 'to say': 2496, 'on twitter': 1776, 'wife and': 2835, 'me so': 1495, 'will make': 2843, 'crazy': 615, 'have already': 1092, 'up in': 2641, 'to an': 2416, 'my family': 1574, 'too late': 2534, 'too late flight': 2535, 'able to get': 3, 'you make': 2953, 'because the': 411, 'clean': 559, 'but will': 466, 'print': 1902, 'because you': 412, 'airways': 48, 'tell me to': 2225, 'it would': 1301, 'go through': 1052, 'to bos': 2424, 'you be not': 2920, 'up and': 2639, 'unite get': 2596, 'will miss': 2844, 'flight attendants': 851, 'just have': 1347, 'operate': 1797, 'till': 2400, 'poor customer': 1891, 'poor customer service': 1892, 'fan': 807, 'for get': 945, 'glad to': 1045, 'get back to': 1013, 'last flight': 1382, 'be at the': 283, 'not know': 1675, 'have not be': 1117, 'visit': 2732, 'have get': 1105, 'not go to': 1668, 'fault': 811, 'your fault': 2986, 'and this': 158, 'if you can': 1231, 'this have': 2379, 'make sure': 1467, 'to cancel': 2429, 'to cancel flight': 2430, 'to keep': 2471, 'not cool': 1659, 'hold for an': 1153, 'and be tell': 127, 'to us': 2517, 'and still no': 150, 'it would be': 1302, 'would be nice': 2894, 'in this': 1261, 'follow up': 932, 'flight because': 856, 'for mins': 954, 'staff at': 2154, 'tell you': 2229, 'nashville': 1602, 'surprise': 2200, 'now and': 1705, 'still do': 2169, 'still do not': 2170, 'to change flight': 2432, 'follow you': 933, 'get us': 1037, 'in the air': 1260, 'bus': 447, 'have now': 1118, 'appreciate it': 195, 'compensate': 577, 'minutes on': 1532, 'hit': 1150, 'out the': 1820, 'to sit': 2499, 'grind crew': 1070, 'how much': 1199, 'my time': 1595, 'the wrong': 2343, 'what the': 2799, 'that it': 2260, 'attitude': 235, 'disgust': 693, 'my life': 1585, 'no gate': 1633, 'be treat': 391, 'that they': 2264, 'and want': 161, 'want to get': 2750, 'the terminal': 2332, 'hold for over': 1157, 'be change': 296, 'speak to someone': 2147, 'need help': 1605, 'cover': 613, 'ever have': 777, 'book on': 435, 'locate': 1430, 'disconnect': 691, 'over hrs': 1826, 'none': 1644, 'be travel': 390, 'act': 19, 'important': 1237, 'hour and half': 1172, 'plane for': 1875, 'flightlations': 905, 'cancel flightlations': 509, 'per': 1851, 'delay so': 662, 'now we be': 1712, 'except': 785, 'explanation': 796, 'understand the': 2580, 'back to the': 252, 'chance of': 532, 'flight tomorrow': 897, 'cheap': 545, 'they could': 2358, 'my husband': 1583, 'realize': 1932, 'want my': 2748, 'god': 1057, 'southwestair get': 2119, 'wall': 2745, 'can not do': 493, 'log': 1431, 'take me': 2212, 'through to': 2391, 'flight due': 869, 'flight due to': 870, 'social': 2095, 'social media': 2096, 'do not know': 716, 'service on': 2048, 'and that': 152, 'the next flight': 2307, 'and just': 140, 'figure out': 820, 'it possible': 1296, 'be it possible': 326, 'have be sit': 1099, 'hour wait': 1176, 'flight time': 894, 'of it': 1723, 'say the': 2005, 'runway': 1989, 'the runway': 2325, 'on the runway': 1771, 'be only': 352, 'work and': 2878, 'to orlando': 2486, 'true': 2551, 'not book': 1655, 'be sit on': 366, 'live': 1428, 'not seem': 1684, 'not seem to': 1685, 'push': 1914, 'fix it': 839, 'to flight': 2452, 'hours on': 1186, 'safe': 1991, 'cater': 525, 'busy': 449, 'system be': 2207, 'it say': 1297, 'in phl': 1256, 'hold to': 1159, 'on hold to': 1755, 'notify': 1703, 'the weather': 2337, 'discount': 692, 'funeral': 998, 'my vacation': 1598, 'at pm': 224, 'try to call': 2557, 'have more': 1112, 'that flight': 2258, 'worst experience': 2889, 'hours on hold': 1187, 'no answer': 1630, 'put on': 1918, 'and count': 130, 'condition': 586, 'acceptable': 14, 'on us': 1778, 'us air': 2654, 'not allow': 1650, 'the number': 2309, 'be sorry': 368, 'after the': 29, 'get through to': 1033, 'weather in': 2777, 'wed': 2781, 'would you': 2902, 'plane in': 1876, 'hello': 1134, 'relations': 1949, 'weather be': 2776, 'sister': 2069, 'usairways be': 2664, 'next time': 1623, 'please do': 1881, 'usairways can': 2666, 'usairways can not': 2667, 'hours now': 1184, 'especially': 772, 'be out': 354, 'to call back': 2428, 'decide': 650, 'children': 553, 'go from': 1048, 'know where': 1369, 'be come': 298, 'callback': 483, 'water': 2754, 'tmrw': 2413, 'merge': 1511, 'issue be': 1280, 'you call': 2923, 'be over': 355, 'bad weather': 254, 'be awful': 286, 'south': 2107, 'to switch': 2506, 'flight be on': 855, 'your system': 2995, 'say be': 2001, 'my phone': 1590, 'hrs to': 1209, 'now on': 1709, 'usairways americanair': 2661, 'mechanical issue': 1505, 'bna': 430, 'exit': 788, 'to tell': 2511, 'an agent': 116, 'thank you so': 2249, 'you so much': 2963, 'die': 683, 'service in': 2047, 'meal': 1502, 'get hang': 1018, 'get hang up': 1019, 'schedule to': 2011, 'after my': 28, 'unbelievable': 2577, 'your crew': 2981, 'party': 1836, 'kudos to': 1372, 'say you': 2009, 'when call': 2803, 'get in': 1021, 'clearly': 561, 'department': 671, 'southwestair you': 2141, 'southwestair you be': 2142, 'volume': 2733, 'americanair thank': 93, 'americanair thank for': 94, 'not need': 1681, 'do not need': 718, 'could not get': 607, 'wednesday': 2782, 'american airlines': 67, 'snack': 2084, 'say that': 2004, 'automate': 238, 'my flight have': 1580, 'to reach': 2492, 'not get through': 1665, 'be we': 400, 'companion': 574, 'haha': 1077, 'end up': 763, 'fantastic': 808, 'sw': 2202, 'wait hours': 2738, 'alert': 49, 'hold for hrs': 1155, 'my friend': 1582, 'suppose to be': 2197, 'get call': 1014, 'americanair and': 69, 'americanair this': 99, 'on flt': 1752, 'letter': 1406, 'reward': 1969, 'no worry': 1642, 'in clt': 1247, 'inform': 1268, 'apologize': 186, 'to clt': 2437, 'warm': 2751, 'great thank': 1068, 'wait on hold': 2741, 'street': 2184, 'minutes on hold': 1533, 'at dca': 217, 'in philly': 1255, 'americanair have': 78, 'phx': 1864, 'southwestair be': 2111, 'southwestair your': 2143, 'southwestair my': 2126, 'southwestair thank': 2131, 'southwestair thank you': 2133, 'southwestair love': 2125, 'southwestair can': 2114, 'southwestair can you': 2115, 'southwestair be on': 2112, 'southwestair have': 2120, 'southwestair do you': 2117, 'southwestair just': 2124, 'southwestair what': 2135, 'southwestair thank for': 2132, 'customer relations': 628, 'southwestair yes': 2140, 'southwestair any': 2110, 'southwestair flight': 2118, 'swa': 2203, 'the call': 2279, 'southwestair how': 2121, 'southwestair why': 2137, 'southwestair be there': 2113, 'phlairport': 1857, 'southwestair would': 2139, 'fly in': 917, 'southwestair no': 2127, 'southwestair we': 2134, 'southwestair when': 2136, 'southwestair it': 2122, 'southwestair it be': 2123, 'southwestair please': 2129, 'southwestair will': 2138, 'destinationdragons': 680, 'companion pass': 575, 'imaginedragons': 1236, 'dragons': 738, 'americanair you': 111, 'get thru': 1034, 'hold for hours': 1154, 'usairways flight': 2671, 'usair': 2659, 'to lga': 2477, 'usairways have': 2672, 'southwestair so': 2130, 'blue': 429, 'jet blue': 1306, 'passengers and': 1841, 'bos to': 438, 'usairways do': 2669, 'usairways do not': 2670, 'jetblue flight': 1314, 'jetblue thank': 1325, 'jetblue thank you': 1327, 'jetblue do': 1312, 'jetblue just': 1319, 'jetblue be': 1309, 'jetblue can': 1310, 'fleek': 842, 'jetblue what': 1333, 'jetblue what be': 1334, 'jetblue it': 1317, 'jetblue it be': 1318, 'jetblue thank for': 1326, 'trueblue': 2552, 'jetblue would': 1337, 'jetblue our': 1323, 'our fleet': 1813, 'fleet on': 845, 'on fleek': 1747, 'fleek http': 843, 'jetblue our fleet': 1324, 'our fleet on': 1814, 'fleet on fleek': 846, 'on fleek http': 1748, 'jetblue you': 1339, 'jetblue if': 1316, 'jetblue why': 1335, 'jetblue we': 1331, 'jetblue no': 1322, 'jetblue the': 1330, 'rt jetblue': 1982, 'rt jetblue our': 1983, 'jetblue my': 1321, 'jetblue that': 1328, 'jetblue do not': 1313, 'jetblue that be': 1329, 'jetblue well': 1332, 'appease': 191, 'jetblue ceo': 1311, 'appease passengers': 192, 'wall street': 2746, 'battle to': 268, 'to appease': 2419, 'and wall': 160, 'passengers and wall': 1842, 'jetblue love': 1320, 'jetblue will': 1336, 'jetblue yes': 1338, 'jetblue airways': 1308, 'usairways and': 2662, 'usairways just': 2680, 'usairways you': 2707, 'usairways you be': 2708, 'americanair be': 70, 'usairways we': 2700, 'usairways will': 2704, 'usairways have be': 2673, 'usairways thank': 2691, 'usairways why': 2703, 'usairways need': 2682, 'usairways thank for': 2692, 'in charlotte': 1245, 'usairways thank you': 2693, 'usairways yes': 2706, 'usairways if': 2677, 'us airways': 2655, 'usairways how': 2675, 'usairways how do': 2676, 'usairways any': 2663, 'americanair how': 81, 'usairways it': 2678, 'usairways it be': 2679, 'usairways not': 2684, 'usairways hours': 2674, 'usairways my': 2681, 'usairways so': 2689, 'dividend': 694, 'dividend miles': 695, 'chairman': 530, 'usairways what': 2701, 'usairways what be': 2702, 'usairways be on': 2665, 'usairways still': 2690, 'usairways your': 2709, 'americanair flight': 76, 'usairways can you': 2668, 'usairways the': 2696, 'usairways no': 2683, 'usairways please': 2688, 'usairways us': 2699, 'usairways on': 2686, 'usairways on hold': 2687, 'usairways would': 2705, 'americanair need': 87, 'usairways this': 2697, 'usairways this be': 2698, 'americanair try': 100, 'usairways now': 2685, 'americanair do': 74, 'americanair do not': 75, 'in dfw': 1249, 'americanair what': 104, 'americanair what be': 105, 'americanair have be': 79, 'americanair that': 96, 'americanair not': 89, 'americanair thank you': 95, 'americanair will': 108, 'americanair just': 84, 'americanair we': 103, 'americanair my': 85, 'americanair why': 107, 'americanair no': 88, 'americanair when': 106, 'americanair you have': 112, 'americanair your': 113, 'americanair but': 71, 'americanair it': 82, 'americanair it be': 83, 'americanair my flight': 86, 'americanair get': 77, 'americanair still': 92, 'americanair hi': 80, 'americanair that be': 97, 'americanair yes': 110, 'americanair please': 90, 'americanair would': 109, 'americanair the': 98, 'americanair understand': 101, 'at dfw': 218}\n"
     ]
    }
   ],
   "source": [
    "print(vectorizer_count.vocabulary_)"
   ]
  },
  {
   "cell_type": "markdown",
   "metadata": {},
   "source": [
    "<b>Comment</b>: We can see only uni,bi and trigrams are selected."
   ]
  },
  {
   "cell_type": "code",
   "execution_count": 191,
   "metadata": {},
   "outputs": [
    {
     "data": {
      "text/html": [
       "<div>\n",
       "<style scoped>\n",
       "    .dataframe tbody tr th:only-of-type {\n",
       "        vertical-align: middle;\n",
       "    }\n",
       "\n",
       "    .dataframe tbody tr th {\n",
       "        vertical-align: top;\n",
       "    }\n",
       "\n",
       "    .dataframe thead th {\n",
       "        text-align: right;\n",
       "    }\n",
       "</style>\n",
       "<table border=\"1\" class=\"dataframe\">\n",
       "  <thead>\n",
       "    <tr style=\"text-align: right;\">\n",
       "      <th></th>\n",
       "      <th>aa</th>\n",
       "      <th>able</th>\n",
       "      <th>able to</th>\n",
       "      <th>able to get</th>\n",
       "      <th>about</th>\n",
       "      <th>about it</th>\n",
       "      <th>about my</th>\n",
       "      <th>about the</th>\n",
       "      <th>about to</th>\n",
       "      <th>about your</th>\n",
       "      <th>...</th>\n",
       "      <th>your phone</th>\n",
       "      <th>your plan</th>\n",
       "      <th>your service</th>\n",
       "      <th>your site</th>\n",
       "      <th>your staff</th>\n",
       "      <th>your system</th>\n",
       "      <th>your team</th>\n",
       "      <th>your website</th>\n",
       "      <th>yr</th>\n",
       "      <th>zero</th>\n",
       "    </tr>\n",
       "  </thead>\n",
       "  <tbody>\n",
       "    <tr>\n",
       "      <th>0</th>\n",
       "      <td>0</td>\n",
       "      <td>0</td>\n",
       "      <td>0</td>\n",
       "      <td>0</td>\n",
       "      <td>0</td>\n",
       "      <td>0</td>\n",
       "      <td>0</td>\n",
       "      <td>0</td>\n",
       "      <td>0</td>\n",
       "      <td>0</td>\n",
       "      <td>...</td>\n",
       "      <td>0</td>\n",
       "      <td>0</td>\n",
       "      <td>0</td>\n",
       "      <td>0</td>\n",
       "      <td>0</td>\n",
       "      <td>0</td>\n",
       "      <td>0</td>\n",
       "      <td>0</td>\n",
       "      <td>0</td>\n",
       "      <td>0</td>\n",
       "    </tr>\n",
       "    <tr>\n",
       "      <th>1</th>\n",
       "      <td>0</td>\n",
       "      <td>0</td>\n",
       "      <td>0</td>\n",
       "      <td>0</td>\n",
       "      <td>0</td>\n",
       "      <td>0</td>\n",
       "      <td>0</td>\n",
       "      <td>0</td>\n",
       "      <td>0</td>\n",
       "      <td>0</td>\n",
       "      <td>...</td>\n",
       "      <td>0</td>\n",
       "      <td>0</td>\n",
       "      <td>0</td>\n",
       "      <td>0</td>\n",
       "      <td>0</td>\n",
       "      <td>0</td>\n",
       "      <td>0</td>\n",
       "      <td>0</td>\n",
       "      <td>0</td>\n",
       "      <td>0</td>\n",
       "    </tr>\n",
       "    <tr>\n",
       "      <th>2</th>\n",
       "      <td>0</td>\n",
       "      <td>0</td>\n",
       "      <td>0</td>\n",
       "      <td>0</td>\n",
       "      <td>0</td>\n",
       "      <td>0</td>\n",
       "      <td>0</td>\n",
       "      <td>0</td>\n",
       "      <td>0</td>\n",
       "      <td>0</td>\n",
       "      <td>...</td>\n",
       "      <td>0</td>\n",
       "      <td>0</td>\n",
       "      <td>0</td>\n",
       "      <td>0</td>\n",
       "      <td>0</td>\n",
       "      <td>0</td>\n",
       "      <td>0</td>\n",
       "      <td>0</td>\n",
       "      <td>0</td>\n",
       "      <td>0</td>\n",
       "    </tr>\n",
       "    <tr>\n",
       "      <th>3</th>\n",
       "      <td>0</td>\n",
       "      <td>0</td>\n",
       "      <td>0</td>\n",
       "      <td>0</td>\n",
       "      <td>0</td>\n",
       "      <td>0</td>\n",
       "      <td>0</td>\n",
       "      <td>0</td>\n",
       "      <td>0</td>\n",
       "      <td>0</td>\n",
       "      <td>...</td>\n",
       "      <td>0</td>\n",
       "      <td>0</td>\n",
       "      <td>0</td>\n",
       "      <td>0</td>\n",
       "      <td>0</td>\n",
       "      <td>0</td>\n",
       "      <td>0</td>\n",
       "      <td>0</td>\n",
       "      <td>0</td>\n",
       "      <td>0</td>\n",
       "    </tr>\n",
       "    <tr>\n",
       "      <th>4</th>\n",
       "      <td>0</td>\n",
       "      <td>0</td>\n",
       "      <td>0</td>\n",
       "      <td>0</td>\n",
       "      <td>1</td>\n",
       "      <td>1</td>\n",
       "      <td>0</td>\n",
       "      <td>0</td>\n",
       "      <td>0</td>\n",
       "      <td>0</td>\n",
       "      <td>...</td>\n",
       "      <td>0</td>\n",
       "      <td>0</td>\n",
       "      <td>0</td>\n",
       "      <td>0</td>\n",
       "      <td>0</td>\n",
       "      <td>0</td>\n",
       "      <td>0</td>\n",
       "      <td>0</td>\n",
       "      <td>0</td>\n",
       "      <td>0</td>\n",
       "    </tr>\n",
       "  </tbody>\n",
       "</table>\n",
       "<p>5 rows × 3000 columns</p>\n",
       "</div>"
      ],
      "text/plain": [
       "   aa  able  able to  able to get  about  about it  about my  about the  \\\n",
       "0   0     0        0            0      0         0         0          0   \n",
       "1   0     0        0            0      0         0         0          0   \n",
       "2   0     0        0            0      0         0         0          0   \n",
       "3   0     0        0            0      0         0         0          0   \n",
       "4   0     0        0            0      1         1         0          0   \n",
       "\n",
       "   about to  about your  ...  your phone  your plan  your service  your site  \\\n",
       "0         0           0  ...           0          0             0          0   \n",
       "1         0           0  ...           0          0             0          0   \n",
       "2         0           0  ...           0          0             0          0   \n",
       "3         0           0  ...           0          0             0          0   \n",
       "4         0           0  ...           0          0             0          0   \n",
       "\n",
       "   your staff  your system  your team  your website  yr  zero  \n",
       "0           0            0          0             0   0     0  \n",
       "1           0            0          0             0   0     0  \n",
       "2           0            0          0             0   0     0  \n",
       "3           0            0          0             0   0     0  \n",
       "4           0            0          0             0   0     0  \n",
       "\n",
       "[5 rows x 3000 columns]"
      ]
     },
     "execution_count": 191,
     "metadata": {},
     "output_type": "execute_result"
    }
   ],
   "source": [
    "count_vect_df = pd.DataFrame(data_features_count.todense(), columns=vectorizer_count.get_feature_names())\n",
    "count_vect_df.head()"
   ]
  },
  {
   "cell_type": "code",
   "execution_count": 192,
   "metadata": {},
   "outputs": [
    {
     "data": {
      "text/plain": [
       "(14604, 3000)"
      ]
     },
     "execution_count": 192,
     "metadata": {},
     "output_type": "execute_result"
    }
   ],
   "source": [
    "data_features_count.shape"
   ]
  },
  {
   "cell_type": "markdown",
   "metadata": {},
   "source": [
    "<b>Comment</b>: We can see only 3000 features are selected"
   ]
  },
  {
   "cell_type": "code",
   "execution_count": 193,
   "metadata": {},
   "outputs": [
    {
     "name": "stdout",
     "output_type": "stream",
     "text": [
      "[0 0 0 ... 0 0 0]\n"
     ]
    }
   ],
   "source": [
    "print(data_feature_count[3])"
   ]
  },
  {
   "cell_type": "code",
   "execution_count": 194,
   "metadata": {},
   "outputs": [],
   "source": [
    "labels = data_df2['airline_sentiment']\n",
    "#labels = labels.astype('int')"
   ]
  },
  {
   "cell_type": "code",
   "execution_count": 195,
   "metadata": {},
   "outputs": [
    {
     "data": {
      "text/plain": [
       "0         neutral\n",
       "1        positive\n",
       "2         neutral\n",
       "3        negative\n",
       "4        negative\n",
       "           ...   \n",
       "14635    positive\n",
       "14636    negative\n",
       "14637     neutral\n",
       "14638    negative\n",
       "14639     neutral\n",
       "Name: airline_sentiment, Length: 14604, dtype: object"
      ]
     },
     "execution_count": 195,
     "metadata": {},
     "output_type": "execute_result"
    }
   ],
   "source": [
    "labels"
   ]
  },
  {
   "cell_type": "code",
   "execution_count": 196,
   "metadata": {},
   "outputs": [
    {
     "data": {
      "text/plain": [
       "negative    9159\n",
       "neutral     3091\n",
       "positive    2354\n",
       "Name: airline_sentiment, dtype: int64"
      ]
     },
     "execution_count": 196,
     "metadata": {},
     "output_type": "execute_result"
    }
   ],
   "source": [
    "labels.value_counts()"
   ]
  },
  {
   "cell_type": "markdown",
   "metadata": {},
   "source": [
    "### 4b. Using TfidfVectorizer."
   ]
  },
  {
   "cell_type": "code",
   "execution_count": 197,
   "metadata": {},
   "outputs": [
    {
     "data": {
      "text/plain": [
       "(14604, 3000)"
      ]
     },
     "execution_count": 197,
     "metadata": {},
     "output_type": "execute_result"
    }
   ],
   "source": [
    "# Import TfidfVectorizer library to convert text data to numbers.\n",
    "from sklearn.feature_extraction.text import TfidfVectorizer\n",
    "\n",
    "# Keep only 3000 features as number of features will increase the processing time.\n",
    "# we will build the vector using uni,bi and trigrams\n",
    "vectorizer_tfid = TfidfVectorizer(max_features=3000, ngram_range=(1,3))\n",
    "data_features_tfid = vectorizer_tfid.fit_transform(data_df2['text'])\n",
    "\n",
    "# Convert the data features to array.\n",
    "data_feature_tfid = data_features_tfid.toarray()\n",
    "\n",
    "data_feature_tfid.shape"
   ]
  },
  {
   "cell_type": "markdown",
   "metadata": {},
   "source": [
    "<b>Comment</b>: We can see only 3000 features are selected."
   ]
  },
  {
   "cell_type": "code",
   "execution_count": 198,
   "metadata": {},
   "outputs": [
    {
     "data": {
      "text/plain": [
       "array([[0., 0., 0., ..., 0., 0., 0.],\n",
       "       [0., 0., 0., ..., 0., 0., 0.],\n",
       "       [0., 0., 0., ..., 0., 0., 0.],\n",
       "       ...,\n",
       "       [0., 0., 0., ..., 0., 0., 0.],\n",
       "       [0., 0., 0., ..., 0., 0., 0.],\n",
       "       [0., 0., 0., ..., 0., 0., 0.]])"
      ]
     },
     "execution_count": 198,
     "metadata": {},
     "output_type": "execute_result"
    }
   ],
   "source": [
    "data_feature_tfid"
   ]
  },
  {
   "cell_type": "code",
   "execution_count": 199,
   "metadata": {
    "scrolled": true
   },
   "outputs": [
    {
     "data": {
      "text/html": [
       "<div>\n",
       "<style scoped>\n",
       "    .dataframe tbody tr th:only-of-type {\n",
       "        vertical-align: middle;\n",
       "    }\n",
       "\n",
       "    .dataframe tbody tr th {\n",
       "        vertical-align: top;\n",
       "    }\n",
       "\n",
       "    .dataframe thead th {\n",
       "        text-align: right;\n",
       "    }\n",
       "</style>\n",
       "<table border=\"1\" class=\"dataframe\">\n",
       "  <thead>\n",
       "    <tr style=\"text-align: right;\">\n",
       "      <th></th>\n",
       "      <th>aa</th>\n",
       "      <th>able</th>\n",
       "      <th>able to</th>\n",
       "      <th>able to get</th>\n",
       "      <th>about</th>\n",
       "      <th>about it</th>\n",
       "      <th>about my</th>\n",
       "      <th>about the</th>\n",
       "      <th>about to</th>\n",
       "      <th>about your</th>\n",
       "      <th>...</th>\n",
       "      <th>your phone</th>\n",
       "      <th>your plan</th>\n",
       "      <th>your service</th>\n",
       "      <th>your site</th>\n",
       "      <th>your staff</th>\n",
       "      <th>your system</th>\n",
       "      <th>your team</th>\n",
       "      <th>your website</th>\n",
       "      <th>yr</th>\n",
       "      <th>zero</th>\n",
       "    </tr>\n",
       "  </thead>\n",
       "  <tbody>\n",
       "    <tr>\n",
       "      <th>0</th>\n",
       "      <td>0.0</td>\n",
       "      <td>0.0</td>\n",
       "      <td>0.0</td>\n",
       "      <td>0.0</td>\n",
       "      <td>0.000000</td>\n",
       "      <td>0.00000</td>\n",
       "      <td>0.0</td>\n",
       "      <td>0.0</td>\n",
       "      <td>0.0</td>\n",
       "      <td>0.0</td>\n",
       "      <td>...</td>\n",
       "      <td>0.0</td>\n",
       "      <td>0.0</td>\n",
       "      <td>0.0</td>\n",
       "      <td>0.0</td>\n",
       "      <td>0.0</td>\n",
       "      <td>0.0</td>\n",
       "      <td>0.0</td>\n",
       "      <td>0.0</td>\n",
       "      <td>0.0</td>\n",
       "      <td>0.0</td>\n",
       "    </tr>\n",
       "    <tr>\n",
       "      <th>1</th>\n",
       "      <td>0.0</td>\n",
       "      <td>0.0</td>\n",
       "      <td>0.0</td>\n",
       "      <td>0.0</td>\n",
       "      <td>0.000000</td>\n",
       "      <td>0.00000</td>\n",
       "      <td>0.0</td>\n",
       "      <td>0.0</td>\n",
       "      <td>0.0</td>\n",
       "      <td>0.0</td>\n",
       "      <td>...</td>\n",
       "      <td>0.0</td>\n",
       "      <td>0.0</td>\n",
       "      <td>0.0</td>\n",
       "      <td>0.0</td>\n",
       "      <td>0.0</td>\n",
       "      <td>0.0</td>\n",
       "      <td>0.0</td>\n",
       "      <td>0.0</td>\n",
       "      <td>0.0</td>\n",
       "      <td>0.0</td>\n",
       "    </tr>\n",
       "    <tr>\n",
       "      <th>2</th>\n",
       "      <td>0.0</td>\n",
       "      <td>0.0</td>\n",
       "      <td>0.0</td>\n",
       "      <td>0.0</td>\n",
       "      <td>0.000000</td>\n",
       "      <td>0.00000</td>\n",
       "      <td>0.0</td>\n",
       "      <td>0.0</td>\n",
       "      <td>0.0</td>\n",
       "      <td>0.0</td>\n",
       "      <td>...</td>\n",
       "      <td>0.0</td>\n",
       "      <td>0.0</td>\n",
       "      <td>0.0</td>\n",
       "      <td>0.0</td>\n",
       "      <td>0.0</td>\n",
       "      <td>0.0</td>\n",
       "      <td>0.0</td>\n",
       "      <td>0.0</td>\n",
       "      <td>0.0</td>\n",
       "      <td>0.0</td>\n",
       "    </tr>\n",
       "    <tr>\n",
       "      <th>3</th>\n",
       "      <td>0.0</td>\n",
       "      <td>0.0</td>\n",
       "      <td>0.0</td>\n",
       "      <td>0.0</td>\n",
       "      <td>0.000000</td>\n",
       "      <td>0.00000</td>\n",
       "      <td>0.0</td>\n",
       "      <td>0.0</td>\n",
       "      <td>0.0</td>\n",
       "      <td>0.0</td>\n",
       "      <td>...</td>\n",
       "      <td>0.0</td>\n",
       "      <td>0.0</td>\n",
       "      <td>0.0</td>\n",
       "      <td>0.0</td>\n",
       "      <td>0.0</td>\n",
       "      <td>0.0</td>\n",
       "      <td>0.0</td>\n",
       "      <td>0.0</td>\n",
       "      <td>0.0</td>\n",
       "      <td>0.0</td>\n",
       "    </tr>\n",
       "    <tr>\n",
       "      <th>4</th>\n",
       "      <td>0.0</td>\n",
       "      <td>0.0</td>\n",
       "      <td>0.0</td>\n",
       "      <td>0.0</td>\n",
       "      <td>0.216512</td>\n",
       "      <td>0.35802</td>\n",
       "      <td>0.0</td>\n",
       "      <td>0.0</td>\n",
       "      <td>0.0</td>\n",
       "      <td>0.0</td>\n",
       "      <td>...</td>\n",
       "      <td>0.0</td>\n",
       "      <td>0.0</td>\n",
       "      <td>0.0</td>\n",
       "      <td>0.0</td>\n",
       "      <td>0.0</td>\n",
       "      <td>0.0</td>\n",
       "      <td>0.0</td>\n",
       "      <td>0.0</td>\n",
       "      <td>0.0</td>\n",
       "      <td>0.0</td>\n",
       "    </tr>\n",
       "  </tbody>\n",
       "</table>\n",
       "<p>5 rows × 3000 columns</p>\n",
       "</div>"
      ],
      "text/plain": [
       "    aa  able  able to  able to get     about  about it  about my  about the  \\\n",
       "0  0.0   0.0      0.0          0.0  0.000000   0.00000       0.0        0.0   \n",
       "1  0.0   0.0      0.0          0.0  0.000000   0.00000       0.0        0.0   \n",
       "2  0.0   0.0      0.0          0.0  0.000000   0.00000       0.0        0.0   \n",
       "3  0.0   0.0      0.0          0.0  0.000000   0.00000       0.0        0.0   \n",
       "4  0.0   0.0      0.0          0.0  0.216512   0.35802       0.0        0.0   \n",
       "\n",
       "   about to  about your  ...  your phone  your plan  your service  your site  \\\n",
       "0       0.0         0.0  ...         0.0        0.0           0.0        0.0   \n",
       "1       0.0         0.0  ...         0.0        0.0           0.0        0.0   \n",
       "2       0.0         0.0  ...         0.0        0.0           0.0        0.0   \n",
       "3       0.0         0.0  ...         0.0        0.0           0.0        0.0   \n",
       "4       0.0         0.0  ...         0.0        0.0           0.0        0.0   \n",
       "\n",
       "   your staff  your system  your team  your website   yr  zero  \n",
       "0         0.0          0.0        0.0           0.0  0.0   0.0  \n",
       "1         0.0          0.0        0.0           0.0  0.0   0.0  \n",
       "2         0.0          0.0        0.0           0.0  0.0   0.0  \n",
       "3         0.0          0.0        0.0           0.0  0.0   0.0  \n",
       "4         0.0          0.0        0.0           0.0  0.0   0.0  \n",
       "\n",
       "[5 rows x 3000 columns]"
      ]
     },
     "execution_count": 199,
     "metadata": {},
     "output_type": "execute_result"
    }
   ],
   "source": [
    "tfid_vect_df = pd.DataFrame(data_features_tfid.todense(), columns=vectorizer_tfid.get_feature_names())\n",
    "tfid_vect_df.head()"
   ]
  },
  {
   "cell_type": "code",
   "execution_count": 200,
   "metadata": {},
   "outputs": [
    {
     "data": {
      "text/html": [
       "<div>\n",
       "<style scoped>\n",
       "    .dataframe tbody tr th:only-of-type {\n",
       "        vertical-align: middle;\n",
       "    }\n",
       "\n",
       "    .dataframe tbody tr th {\n",
       "        vertical-align: top;\n",
       "    }\n",
       "\n",
       "    .dataframe thead th {\n",
       "        text-align: right;\n",
       "    }\n",
       "</style>\n",
       "<table border=\"1\" class=\"dataframe\">\n",
       "  <thead>\n",
       "    <tr style=\"text-align: right;\">\n",
       "      <th></th>\n",
       "      <th>aa</th>\n",
       "      <th>able</th>\n",
       "      <th>able to</th>\n",
       "      <th>able to get</th>\n",
       "      <th>about</th>\n",
       "      <th>about it</th>\n",
       "      <th>about my</th>\n",
       "      <th>about the</th>\n",
       "      <th>about to</th>\n",
       "      <th>about your</th>\n",
       "      <th>...</th>\n",
       "      <th>your phone</th>\n",
       "      <th>your plan</th>\n",
       "      <th>your service</th>\n",
       "      <th>your site</th>\n",
       "      <th>your staff</th>\n",
       "      <th>your system</th>\n",
       "      <th>your team</th>\n",
       "      <th>your website</th>\n",
       "      <th>yr</th>\n",
       "      <th>zero</th>\n",
       "    </tr>\n",
       "  </thead>\n",
       "  <tbody>\n",
       "    <tr>\n",
       "      <th>count</th>\n",
       "      <td>14604.000000</td>\n",
       "      <td>14604.000000</td>\n",
       "      <td>14604.000000</td>\n",
       "      <td>14604.000000</td>\n",
       "      <td>14604.000000</td>\n",
       "      <td>14604.000000</td>\n",
       "      <td>14604.000000</td>\n",
       "      <td>14604.000000</td>\n",
       "      <td>14604.000000</td>\n",
       "      <td>14604.000000</td>\n",
       "      <td>...</td>\n",
       "      <td>14604.000000</td>\n",
       "      <td>14604.000000</td>\n",
       "      <td>14604.000000</td>\n",
       "      <td>14604.000000</td>\n",
       "      <td>14604.000000</td>\n",
       "      <td>14604.000000</td>\n",
       "      <td>14604.000000</td>\n",
       "      <td>14604.000000</td>\n",
       "      <td>14604.000000</td>\n",
       "      <td>14604.000000</td>\n",
       "    </tr>\n",
       "    <tr>\n",
       "      <th>mean</th>\n",
       "      <td>0.004075</td>\n",
       "      <td>0.001705</td>\n",
       "      <td>0.001584</td>\n",
       "      <td>0.000450</td>\n",
       "      <td>0.006385</td>\n",
       "      <td>0.000551</td>\n",
       "      <td>0.000749</td>\n",
       "      <td>0.001052</td>\n",
       "      <td>0.000442</td>\n",
       "      <td>0.000423</td>\n",
       "      <td>...</td>\n",
       "      <td>0.000680</td>\n",
       "      <td>0.000424</td>\n",
       "      <td>0.000574</td>\n",
       "      <td>0.000566</td>\n",
       "      <td>0.000836</td>\n",
       "      <td>0.000367</td>\n",
       "      <td>0.000478</td>\n",
       "      <td>0.001085</td>\n",
       "      <td>0.000666</td>\n",
       "      <td>0.000718</td>\n",
       "    </tr>\n",
       "    <tr>\n",
       "      <th>std</th>\n",
       "      <td>0.032471</td>\n",
       "      <td>0.019364</td>\n",
       "      <td>0.018253</td>\n",
       "      <td>0.010535</td>\n",
       "      <td>0.035866</td>\n",
       "      <td>0.012989</td>\n",
       "      <td>0.014064</td>\n",
       "      <td>0.017083</td>\n",
       "      <td>0.011074</td>\n",
       "      <td>0.011379</td>\n",
       "      <td>...</td>\n",
       "      <td>0.014623</td>\n",
       "      <td>0.011296</td>\n",
       "      <td>0.013254</td>\n",
       "      <td>0.012674</td>\n",
       "      <td>0.015108</td>\n",
       "      <td>0.010346</td>\n",
       "      <td>0.012477</td>\n",
       "      <td>0.017159</td>\n",
       "      <td>0.014334</td>\n",
       "      <td>0.014749</td>\n",
       "    </tr>\n",
       "    <tr>\n",
       "      <th>min</th>\n",
       "      <td>0.000000</td>\n",
       "      <td>0.000000</td>\n",
       "      <td>0.000000</td>\n",
       "      <td>0.000000</td>\n",
       "      <td>0.000000</td>\n",
       "      <td>0.000000</td>\n",
       "      <td>0.000000</td>\n",
       "      <td>0.000000</td>\n",
       "      <td>0.000000</td>\n",
       "      <td>0.000000</td>\n",
       "      <td>...</td>\n",
       "      <td>0.000000</td>\n",
       "      <td>0.000000</td>\n",
       "      <td>0.000000</td>\n",
       "      <td>0.000000</td>\n",
       "      <td>0.000000</td>\n",
       "      <td>0.000000</td>\n",
       "      <td>0.000000</td>\n",
       "      <td>0.000000</td>\n",
       "      <td>0.000000</td>\n",
       "      <td>0.000000</td>\n",
       "    </tr>\n",
       "    <tr>\n",
       "      <th>25%</th>\n",
       "      <td>0.000000</td>\n",
       "      <td>0.000000</td>\n",
       "      <td>0.000000</td>\n",
       "      <td>0.000000</td>\n",
       "      <td>0.000000</td>\n",
       "      <td>0.000000</td>\n",
       "      <td>0.000000</td>\n",
       "      <td>0.000000</td>\n",
       "      <td>0.000000</td>\n",
       "      <td>0.000000</td>\n",
       "      <td>...</td>\n",
       "      <td>0.000000</td>\n",
       "      <td>0.000000</td>\n",
       "      <td>0.000000</td>\n",
       "      <td>0.000000</td>\n",
       "      <td>0.000000</td>\n",
       "      <td>0.000000</td>\n",
       "      <td>0.000000</td>\n",
       "      <td>0.000000</td>\n",
       "      <td>0.000000</td>\n",
       "      <td>0.000000</td>\n",
       "    </tr>\n",
       "    <tr>\n",
       "      <th>50%</th>\n",
       "      <td>0.000000</td>\n",
       "      <td>0.000000</td>\n",
       "      <td>0.000000</td>\n",
       "      <td>0.000000</td>\n",
       "      <td>0.000000</td>\n",
       "      <td>0.000000</td>\n",
       "      <td>0.000000</td>\n",
       "      <td>0.000000</td>\n",
       "      <td>0.000000</td>\n",
       "      <td>0.000000</td>\n",
       "      <td>...</td>\n",
       "      <td>0.000000</td>\n",
       "      <td>0.000000</td>\n",
       "      <td>0.000000</td>\n",
       "      <td>0.000000</td>\n",
       "      <td>0.000000</td>\n",
       "      <td>0.000000</td>\n",
       "      <td>0.000000</td>\n",
       "      <td>0.000000</td>\n",
       "      <td>0.000000</td>\n",
       "      <td>0.000000</td>\n",
       "    </tr>\n",
       "    <tr>\n",
       "      <th>75%</th>\n",
       "      <td>0.000000</td>\n",
       "      <td>0.000000</td>\n",
       "      <td>0.000000</td>\n",
       "      <td>0.000000</td>\n",
       "      <td>0.000000</td>\n",
       "      <td>0.000000</td>\n",
       "      <td>0.000000</td>\n",
       "      <td>0.000000</td>\n",
       "      <td>0.000000</td>\n",
       "      <td>0.000000</td>\n",
       "      <td>...</td>\n",
       "      <td>0.000000</td>\n",
       "      <td>0.000000</td>\n",
       "      <td>0.000000</td>\n",
       "      <td>0.000000</td>\n",
       "      <td>0.000000</td>\n",
       "      <td>0.000000</td>\n",
       "      <td>0.000000</td>\n",
       "      <td>0.000000</td>\n",
       "      <td>0.000000</td>\n",
       "      <td>0.000000</td>\n",
       "    </tr>\n",
       "    <tr>\n",
       "      <th>max</th>\n",
       "      <td>0.625821</td>\n",
       "      <td>0.574097</td>\n",
       "      <td>0.345431</td>\n",
       "      <td>0.291358</td>\n",
       "      <td>0.511686</td>\n",
       "      <td>0.419477</td>\n",
       "      <td>0.491408</td>\n",
       "      <td>0.495500</td>\n",
       "      <td>0.399889</td>\n",
       "      <td>0.462620</td>\n",
       "      <td>...</td>\n",
       "      <td>0.514988</td>\n",
       "      <td>0.372755</td>\n",
       "      <td>0.567015</td>\n",
       "      <td>0.410733</td>\n",
       "      <td>0.446986</td>\n",
       "      <td>0.422895</td>\n",
       "      <td>0.605091</td>\n",
       "      <td>0.467763</td>\n",
       "      <td>0.575167</td>\n",
       "      <td>0.535796</td>\n",
       "    </tr>\n",
       "  </tbody>\n",
       "</table>\n",
       "<p>8 rows × 3000 columns</p>\n",
       "</div>"
      ],
      "text/plain": [
       "                 aa          able       able to   able to get         about  \\\n",
       "count  14604.000000  14604.000000  14604.000000  14604.000000  14604.000000   \n",
       "mean       0.004075      0.001705      0.001584      0.000450      0.006385   \n",
       "std        0.032471      0.019364      0.018253      0.010535      0.035866   \n",
       "min        0.000000      0.000000      0.000000      0.000000      0.000000   \n",
       "25%        0.000000      0.000000      0.000000      0.000000      0.000000   \n",
       "50%        0.000000      0.000000      0.000000      0.000000      0.000000   \n",
       "75%        0.000000      0.000000      0.000000      0.000000      0.000000   \n",
       "max        0.625821      0.574097      0.345431      0.291358      0.511686   \n",
       "\n",
       "           about it      about my     about the      about to    about your  \\\n",
       "count  14604.000000  14604.000000  14604.000000  14604.000000  14604.000000   \n",
       "mean       0.000551      0.000749      0.001052      0.000442      0.000423   \n",
       "std        0.012989      0.014064      0.017083      0.011074      0.011379   \n",
       "min        0.000000      0.000000      0.000000      0.000000      0.000000   \n",
       "25%        0.000000      0.000000      0.000000      0.000000      0.000000   \n",
       "50%        0.000000      0.000000      0.000000      0.000000      0.000000   \n",
       "75%        0.000000      0.000000      0.000000      0.000000      0.000000   \n",
       "max        0.419477      0.491408      0.495500      0.399889      0.462620   \n",
       "\n",
       "       ...    your phone     your plan  your service     your site  \\\n",
       "count  ...  14604.000000  14604.000000  14604.000000  14604.000000   \n",
       "mean   ...      0.000680      0.000424      0.000574      0.000566   \n",
       "std    ...      0.014623      0.011296      0.013254      0.012674   \n",
       "min    ...      0.000000      0.000000      0.000000      0.000000   \n",
       "25%    ...      0.000000      0.000000      0.000000      0.000000   \n",
       "50%    ...      0.000000      0.000000      0.000000      0.000000   \n",
       "75%    ...      0.000000      0.000000      0.000000      0.000000   \n",
       "max    ...      0.514988      0.372755      0.567015      0.410733   \n",
       "\n",
       "         your staff   your system     your team  your website            yr  \\\n",
       "count  14604.000000  14604.000000  14604.000000  14604.000000  14604.000000   \n",
       "mean       0.000836      0.000367      0.000478      0.001085      0.000666   \n",
       "std        0.015108      0.010346      0.012477      0.017159      0.014334   \n",
       "min        0.000000      0.000000      0.000000      0.000000      0.000000   \n",
       "25%        0.000000      0.000000      0.000000      0.000000      0.000000   \n",
       "50%        0.000000      0.000000      0.000000      0.000000      0.000000   \n",
       "75%        0.000000      0.000000      0.000000      0.000000      0.000000   \n",
       "max        0.446986      0.422895      0.605091      0.467763      0.575167   \n",
       "\n",
       "               zero  \n",
       "count  14604.000000  \n",
       "mean       0.000718  \n",
       "std        0.014749  \n",
       "min        0.000000  \n",
       "25%        0.000000  \n",
       "50%        0.000000  \n",
       "75%        0.000000  \n",
       "max        0.535796  \n",
       "\n",
       "[8 rows x 3000 columns]"
      ]
     },
     "execution_count": 200,
     "metadata": {},
     "output_type": "execute_result"
    }
   ],
   "source": [
    "tfid_vect_df.describe()"
   ]
  },
  {
   "cell_type": "markdown",
   "metadata": {},
   "source": [
    "## 5. Fit and evaluate model using both type of vectorization. (6+6 Marks)\n",
    "<b>Using CountVectorizer</b>"
   ]
  },
  {
   "cell_type": "code",
   "execution_count": 201,
   "metadata": {},
   "outputs": [],
   "source": [
    "# Split data into training and testing set.\n",
    "from sklearn.model_selection import train_test_split\n",
    "X_train_count, X_test_count, y_train_count, y_test_count = train_test_split(data_feature_count, labels, test_size=0.3, random_state=42)"
   ]
  },
  {
   "cell_type": "code",
   "execution_count": 202,
   "metadata": {},
   "outputs": [
    {
     "data": {
      "text/plain": [
       "negative    6363\n",
       "neutral     2206\n",
       "positive    1653\n",
       "Name: airline_sentiment, dtype: int64"
      ]
     },
     "execution_count": 202,
     "metadata": {},
     "output_type": "execute_result"
    }
   ],
   "source": [
    "y_train_count.value_counts()"
   ]
  },
  {
   "cell_type": "code",
   "execution_count": 203,
   "metadata": {},
   "outputs": [
    {
     "data": {
      "text/plain": [
       "negative    2796\n",
       "neutral      885\n",
       "positive     701\n",
       "Name: airline_sentiment, dtype: int64"
      ]
     },
     "execution_count": 203,
     "metadata": {},
     "output_type": "execute_result"
    }
   ],
   "source": [
    "y_test_count.value_counts()"
   ]
  },
  {
   "cell_type": "code",
   "execution_count": 204,
   "metadata": {},
   "outputs": [
    {
     "name": "stdout",
     "output_type": "stream",
     "text": [
      "RandomForestClassifier(n_estimators=200, n_jobs=4, random_state=21)\n",
      "0.7269231544835931\n"
     ]
    }
   ],
   "source": [
    "## Using Random Forest to build model for the classification of tweets.\n",
    "# Also calculating the cross validation score.\n",
    "\n",
    "from sklearn.ensemble import RandomForestClassifier\n",
    "from sklearn.model_selection import cross_val_score\n",
    "\n",
    "#we will build 200 trees.\n",
    "forest_count = RandomForestClassifier(n_estimators=200, n_jobs=4, random_state=21)\n",
    "\n",
    "forest_count = forest_count.fit(X_train_count, y_train_count)\n",
    "\n",
    "print(forest_count)\n",
    "\n",
    "print(np.mean(cross_val_score(forest_count, data_features_count, labels, cv=5)))"
   ]
  },
  {
   "cell_type": "code",
   "execution_count": 205,
   "metadata": {},
   "outputs": [],
   "source": [
    "# Predict the result for test data using the model built above.\n",
    "result_count = forest_count.predict(X_test_count)"
   ]
  },
  {
   "cell_type": "code",
   "execution_count": 206,
   "metadata": {},
   "outputs": [
    {
     "data": {
      "text/plain": [
       "(4382,)"
      ]
     },
     "execution_count": 206,
     "metadata": {},
     "output_type": "execute_result"
    }
   ],
   "source": [
    "result_count.shape"
   ]
  },
  {
   "cell_type": "code",
   "execution_count": 207,
   "metadata": {},
   "outputs": [
    {
     "data": {
      "text/plain": [
       "0.7788680967594706"
      ]
     },
     "execution_count": 207,
     "metadata": {},
     "output_type": "execute_result"
    }
   ],
   "source": [
    "acc_RF_count = accuracy_score(y_test_count, result_count)\n",
    "acc_RF_count"
   ]
  },
  {
   "cell_type": "code",
   "execution_count": 208,
   "metadata": {},
   "outputs": [
    {
     "name": "stdout",
     "output_type": "stream",
     "text": [
      "[[2640  102   54]\n",
      " [ 444  382   59]\n",
      " [ 201  109  391]]\n"
     ]
    },
    {
     "data": {
      "text/plain": [
       "<matplotlib.axes._subplots.AxesSubplot at 0x7fbad83ae070>"
      ]
     },
     "execution_count": 208,
     "metadata": {},
     "output_type": "execute_result"
    },
    {
     "data": {
      "image/png": "[encoded data removed]",
      "text/plain": [
       "<Figure size 720x504 with 2 Axes>"
      ]
     },
     "metadata": {
      "needs_background": "light"
     },
     "output_type": "display_data"
    }
   ],
   "source": [
    "# Print and plot Confusion matirx to get an idea of how the distribution of the prediction is, among all the classes.\n",
    "\n",
    "import matplotlib.pyplot as plt\n",
    "import seaborn as sns\n",
    "from sklearn.metrics import confusion_matrix\n",
    "\n",
    "%matplotlib inline\n",
    "\n",
    "conf_mat_count = confusion_matrix(y_test_count, result_count)\n",
    "\n",
    "print(conf_mat_count)\n",
    "\n",
    "df_cm_count = pd.DataFrame(conf_mat_count, index = [i for i in \"123\"],\n",
    "                  columns = [i for i in \"123\"])\n",
    "plt.figure(figsize = (10,7))\n",
    "sns.heatmap(df_cm_count, annot=True, fmt='g')\n"
   ]
  },
  {
   "cell_type": "markdown",
   "metadata": {},
   "source": [
    "<b>Comment</b>: The accuracy score is 77.88% for CountVectorizer data using Random Forest Classifier."
   ]
  },
  {
   "cell_type": "markdown",
   "metadata": {},
   "source": [
    "## 5. Fit and evaluate model using both type of vectorization. (6+6 Marks)\n",
    "<b>Using TfidfVectorizer</b>"
   ]
  },
  {
   "cell_type": "code",
   "execution_count": 209,
   "metadata": {},
   "outputs": [],
   "source": [
    "X_train_tfid, X_test_tfid, y_train_tfid, y_test_tfid = train_test_split(data_feature_tfid, labels, test_size=0.3, random_state=21)"
   ]
  },
  {
   "cell_type": "code",
   "execution_count": 210,
   "metadata": {},
   "outputs": [
    {
     "data": {
      "text/plain": [
       "negative    6392\n",
       "neutral     2185\n",
       "positive    1645\n",
       "Name: airline_sentiment, dtype: int64"
      ]
     },
     "execution_count": 210,
     "metadata": {},
     "output_type": "execute_result"
    }
   ],
   "source": [
    "y_train_tfid.value_counts()"
   ]
  },
  {
   "cell_type": "code",
   "execution_count": 211,
   "metadata": {},
   "outputs": [
    {
     "data": {
      "text/plain": [
       "negative    2767\n",
       "neutral      906\n",
       "positive     709\n",
       "Name: airline_sentiment, dtype: int64"
      ]
     },
     "execution_count": 211,
     "metadata": {},
     "output_type": "execute_result"
    }
   ],
   "source": [
    "y_test_tfid.value_counts()"
   ]
  },
  {
   "cell_type": "code",
   "execution_count": 212,
   "metadata": {},
   "outputs": [
    {
     "name": "stdout",
     "output_type": "stream",
     "text": [
      "RandomForestClassifier(n_estimators=200, n_jobs=4, random_state=21)\n",
      "0.7150779429075237\n"
     ]
    }
   ],
   "source": [
    "# Using Random Forest to build model for the classification of tweets.\n",
    "# Also calculating the cross validation score.\n",
    "\n",
    "#we will build 200 trees.\n",
    "forest_tfid = RandomForestClassifier(n_estimators=200, n_jobs=4, random_state=21)\n",
    "\n",
    "forest_tfid = forest_tfid.fit(X_train_tfid, y_train_tfid)\n",
    "\n",
    "print(forest_tfid)\n",
    "\n",
    "print(np.mean(cross_val_score(forest_tfid, data_feature_tfid, labels, cv=5)))"
   ]
  },
  {
   "cell_type": "code",
   "execution_count": 213,
   "metadata": {},
   "outputs": [
    {
     "data": {
      "text/plain": [
       "(4382,)"
      ]
     },
     "execution_count": 213,
     "metadata": {},
     "output_type": "execute_result"
    }
   ],
   "source": [
    "result_rf_tfid = forest_tfid.predict(X_test_tfid)\n",
    "result_rf_tfid.shape"
   ]
  },
  {
   "cell_type": "code",
   "execution_count": 214,
   "metadata": {},
   "outputs": [
    {
     "data": {
      "text/plain": [
       "0.7722501141031493"
      ]
     },
     "execution_count": 214,
     "metadata": {},
     "output_type": "execute_result"
    }
   ],
   "source": [
    "acc_RF_tfid = accuracy_score(y_test_tfid, result_rf_tfid)\n",
    "acc_RF_tfid"
   ]
  },
  {
   "cell_type": "code",
   "execution_count": 215,
   "metadata": {},
   "outputs": [
    {
     "name": "stdout",
     "output_type": "stream",
     "text": [
      "[[2642   82   43]\n",
      " [ 461  375   70]\n",
      " [ 249   93  367]]\n"
     ]
    },
    {
     "data": {
      "text/plain": [
       "<matplotlib.axes._subplots.AxesSubplot at 0x7fbada010550>"
      ]
     },
     "execution_count": 215,
     "metadata": {},
     "output_type": "execute_result"
    },
    {
     "data": {
      "image/png": "[encoded data removed]",
      "text/plain": [
       "<Figure size 720x504 with 2 Axes>"
      ]
     },
     "metadata": {
      "needs_background": "light"
     },
     "output_type": "display_data"
    }
   ],
   "source": [
    "import matplotlib.pyplot as plt\n",
    "import seaborn as sns\n",
    "from sklearn.metrics import confusion_matrix\n",
    "\n",
    "conf_mat_rf_tfid = confusion_matrix(y_test_tfid, result_rf_tfid)\n",
    "\n",
    "print(conf_mat_rf_tfid)\n",
    "\n",
    "df_cm_rf_tfid = pd.DataFrame(conf_mat_rf_tfid, index = [i for i in \"123\"],\n",
    "                  columns = [i for i in \"123\"])\n",
    "plt.figure(figsize = (10,7))\n",
    "sns.heatmap(df_cm_rf_tfid, annot=True, fmt='g')"
   ]
  },
  {
   "cell_type": "markdown",
   "metadata": {},
   "source": [
    "<b>Comment</b>: The accuracy score is 77.22% for TfidfVectorizer data using Random Forest Classifier."
   ]
  },
  {
   "cell_type": "markdown",
   "metadata": {},
   "source": [
    "## 6. Summarize your understanding of the application of Various Pre-processing and Vectorization and performance of your model on this dataset. (8 Marks)"
   ]
  },
  {
   "cell_type": "markdown",
   "metadata": {},
   "source": [
    "<b>Summary:</b>\n",
    "\n",
    "- We imported all the required NLP libraries like nltk, re, BeautifulSoup,contractions etc.\n",
    "- We used dataset which has tweets in text format and their airline_sentiment value which are either Positive, Neutral or Negative.\n",
    "- The goal was to build a model for tweet-classification i.e. classify the tweet text into either positive, negative, or neutral tweets.\n",
    "- We pre-processed the data using variuos techniques like html tag removal, tokenization, number and special character removal,lowercase conversion and lematization. There were some duplicates in the data which were removed during pre processing. In addition we performed contraction before lemmatization so that words like \"you've\" are properly lemmatized.\n",
    "- The pre-precessed data is converted to numbers, so that we can feed the data in the model. we used 2 techniques to convert namely CountVectorizer and TfidfVectorizer. We used only the top 3000 high frequency grams which are either Uni, Bi or Trigrams. \n",
    "- After building the classification model using RandomForestClassifier using 200 trees, we trained and predicted for both CountVectorizer and TfidfVectorizer data. \n",
    "\n",
    "    - Vectorization Type Test_Data_Accuracy\n",
    "    - CountVectorizer:        77.88%\n",
    "    - TfidfVectorizer:        77.22%\n",
    "\n",
    "- We can see accuracy of CountVectorizer is slightly better than TfidfVectorizer"
   ]
  },
  {
   "cell_type": "markdown",
   "metadata": {},
   "source": [
    "### SVM Classifier"
   ]
  },
  {
   "cell_type": "code",
   "execution_count": 217,
   "metadata": {},
   "outputs": [],
   "source": [
    "from sklearn.svm import SVC"
   ]
  },
  {
   "cell_type": "code",
   "execution_count": 220,
   "metadata": {},
   "outputs": [
    {
     "name": "stdout",
     "output_type": "stream",
     "text": [
      "SVC(random_state=21)\n",
      "0.7634197567918661\n"
     ]
    }
   ],
   "source": [
    "# Using Random Forest to build model for the classification of tweets.\n",
    "# Also calculating the cross validation score.\n",
    "\n",
    "svm_tfid = SVC( random_state=21)\n",
    "\n",
    "svm_tfid = svm_tfid.fit(X_train_tfid, y_train_tfid)\n",
    "\n",
    "print(svm_tfid)\n",
    "\n",
    "print(np.mean(cross_val_score(svm_tfid, data_feature_tfid, labels, cv=5)))"
   ]
  },
  {
   "cell_type": "code",
   "execution_count": 223,
   "metadata": {},
   "outputs": [
    {
     "data": {
      "text/plain": [
       "(4382,)"
      ]
     },
     "execution_count": 223,
     "metadata": {},
     "output_type": "execute_result"
    }
   ],
   "source": [
    "result_svm_tfid = svm_tfid.predict(X_test_tfid)\n",
    "result_svm_tfid.shape"
   ]
  },
  {
   "cell_type": "code",
   "execution_count": 224,
   "metadata": {},
   "outputs": [
    {
     "data": {
      "text/plain": [
       "0.8003194888178914"
      ]
     },
     "execution_count": 224,
     "metadata": {},
     "output_type": "execute_result"
    }
   ],
   "source": [
    "acc_svm_tfid = accuracy_score(y_test_tfid, result_svm_tfid)\n",
    "acc_svm_tfid"
   ]
  },
  {
   "cell_type": "markdown",
   "metadata": {},
   "source": [
    "### naive_bayes"
   ]
  },
  {
   "cell_type": "code",
   "execution_count": 229,
   "metadata": {},
   "outputs": [
    {
     "name": "stdout",
     "output_type": "stream",
     "text": [
      "MultinomialNB()\n",
      "0.7439049302875258\n"
     ]
    }
   ],
   "source": [
    "from sklearn.naive_bayes import MultinomialNB\n",
    "gnb_tfid = MultinomialNB()\n",
    "gnb_tfid = gnb_tfid.fit(X_train_tfid, y_train_tfid)\n",
    "\n",
    "print(gnb_tfid)\n",
    "\n",
    "print(np.mean(cross_val_score(gnb_tfid, data_feature_tfid, labels, cv=5)))\n"
   ]
  },
  {
   "cell_type": "code",
   "execution_count": 230,
   "metadata": {},
   "outputs": [
    {
     "data": {
      "text/plain": [
       "(4382,)"
      ]
     },
     "execution_count": 230,
     "metadata": {},
     "output_type": "execute_result"
    }
   ],
   "source": [
    "result_gnb_tfid = gnb_tfid.predict(X_test_tfid)\n",
    "result_gnb_tfid.shape"
   ]
  },
  {
   "cell_type": "code",
   "execution_count": 231,
   "metadata": {},
   "outputs": [
    {
     "data": {
      "text/plain": [
       "0.7692834322227293"
      ]
     },
     "execution_count": 231,
     "metadata": {},
     "output_type": "execute_result"
    }
   ],
   "source": [
    "acc_gnb_tfid = accuracy_score(y_test_tfid, result_gnb_tfid)\n",
    "acc_gnb_tfid"
   ]
  },
  {
   "cell_type": "code",
   "execution_count": null,
   "metadata": {},
   "outputs": [],
   "source": []
  }
 ],
 "metadata": {
  "kernelspec": {
   "display_name": "Python 3",
   "language": "python",
   "name": "python3"
  },
  "language_info": {
   "codemirror_mode": {
    "name": "ipython",
    "version": 3
   },
   "file_extension": ".py",
   "mimetype": "text/x-python",
   "name": "python",
   "nbconvert_exporter": "python",
   "pygments_lexer": "ipython3",
   "version": "3.8.3"
  }
 },
 "nbformat": 4,
 "nbformat_minor": 4
}
